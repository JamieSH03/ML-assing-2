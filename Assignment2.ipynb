{
 "cells": [
  {
   "cell_type": "markdown",
   "id": "63c00508",
   "metadata": {},
   "source": [
    "## Assignment 2: Nearest Neighbours & Decision Trees"
   ]
  },
  {
   "cell_type": "code",
   "execution_count": 38,
   "id": "d80b1803",
   "metadata": {},
   "outputs": [],
   "source": [
    "import pandas as pd\n",
    "import numpy as np\n",
    "import os\n",
    "import math\n",
    "import matplotlib.pyplot as plt\n",
    "from sklearn.model_selection import train_test_split\n",
    "from sklearn.neighbors import KNeighborsClassifier\n",
    "from sklearn.tree import DecisionTreeClassifier\n",
    "from sklearn.metrics import classification_report, confusion_matrix\n",
    "import matplotlib.pyplot as plt\n",
    "import seaborn as sns\n",
    "from sklearn.preprocessing import MinMaxScaler, RobustScaler, StandardScaler\n",
    "from sklearn.decomposition import PCA\n",
    "from imblearn.combine import SMOTETomek\n",
    "from imblearn.under_sampling import TomekLinks\n",
    "from sklearn.model_selection import GridSearchCV\n",
    "\n"
   ]
  },
  {
   "cell_type": "markdown",
   "id": "a2be85e7",
   "metadata": {},
   "source": [
    "## Analysis"
   ]
  },
  {
   "cell_type": "code",
   "execution_count": 39,
   "id": "df49ce8c",
   "metadata": {},
   "outputs": [
    {
     "data": {
      "text/html": [
       "<div>\n",
       "<style scoped>\n",
       "    .dataframe tbody tr th:only-of-type {\n",
       "        vertical-align: middle;\n",
       "    }\n",
       "\n",
       "    .dataframe tbody tr th {\n",
       "        vertical-align: top;\n",
       "    }\n",
       "\n",
       "    .dataframe thead th {\n",
       "        text-align: right;\n",
       "    }\n",
       "</style>\n",
       "<table border=\"1\" class=\"dataframe\">\n",
       "  <thead>\n",
       "    <tr style=\"text-align: right;\">\n",
       "      <th></th>\n",
       "      <th>Elevation</th>\n",
       "      <th>Aspect</th>\n",
       "      <th>Facet</th>\n",
       "      <th>Slope</th>\n",
       "      <th>Inclination</th>\n",
       "      <th>Horizontal_Distance_To_Hydrology</th>\n",
       "      <th>Vertical_Distance_To_Hydrology</th>\n",
       "      <th>Horizontal_Distance_To_Roadways</th>\n",
       "      <th>Hillshade_9am</th>\n",
       "      <th>Hillshade_Noon</th>\n",
       "      <th>...</th>\n",
       "      <th>Soil_Type34</th>\n",
       "      <th>Soil_Type35</th>\n",
       "      <th>Soil_Type36</th>\n",
       "      <th>Soil_Type37</th>\n",
       "      <th>Soil_Type38</th>\n",
       "      <th>Soil_Type39</th>\n",
       "      <th>Soil_Type40</th>\n",
       "      <th>Observation_ID</th>\n",
       "      <th>Water_Level</th>\n",
       "      <th>Cover_Type</th>\n",
       "    </tr>\n",
       "  </thead>\n",
       "  <tbody>\n",
       "    <tr>\n",
       "      <th>0</th>\n",
       "      <td>3208920</td>\n",
       "      <td>166</td>\n",
       "      <td>415.394727</td>\n",
       "      <td>6.0</td>\n",
       "      <td>0.691628</td>\n",
       "      <td>408</td>\n",
       "      <td>62</td>\n",
       "      <td>3137</td>\n",
       "      <td>225</td>\n",
       "      <td>242</td>\n",
       "      <td>...</td>\n",
       "      <td>0</td>\n",
       "      <td>0</td>\n",
       "      <td>0</td>\n",
       "      <td>0</td>\n",
       "      <td>0</td>\n",
       "      <td>0</td>\n",
       "      <td>0</td>\n",
       "      <td>2</td>\n",
       "      <td>1</td>\n",
       "      <td>2</td>\n",
       "    </tr>\n",
       "    <tr>\n",
       "      <th>1</th>\n",
       "      <td>2789020</td>\n",
       "      <td>137</td>\n",
       "      <td>343.302186</td>\n",
       "      <td>9.0</td>\n",
       "      <td>0.621245</td>\n",
       "      <td>30</td>\n",
       "      <td>2</td>\n",
       "      <td>1040</td>\n",
       "      <td>235</td>\n",
       "      <td>237</td>\n",
       "      <td>...</td>\n",
       "      <td>0</td>\n",
       "      <td>0</td>\n",
       "      <td>0</td>\n",
       "      <td>0</td>\n",
       "      <td>0</td>\n",
       "      <td>0</td>\n",
       "      <td>0</td>\n",
       "      <td>3</td>\n",
       "      <td>1</td>\n",
       "      <td>3</td>\n",
       "    </tr>\n",
       "    <tr>\n",
       "      <th>2</th>\n",
       "      <td>3384615</td>\n",
       "      <td>357</td>\n",
       "      <td>894.231390</td>\n",
       "      <td>9.0</td>\n",
       "      <td>-0.266086</td>\n",
       "      <td>362</td>\n",
       "      <td>15</td>\n",
       "      <td>3113</td>\n",
       "      <td>207</td>\n",
       "      <td>225</td>\n",
       "      <td>...</td>\n",
       "      <td>0</td>\n",
       "      <td>0</td>\n",
       "      <td>0</td>\n",
       "      <td>0</td>\n",
       "      <td>0</td>\n",
       "      <td>0</td>\n",
       "      <td>0</td>\n",
       "      <td>4</td>\n",
       "      <td>1</td>\n",
       "      <td>1</td>\n",
       "    </tr>\n",
       "    <tr>\n",
       "      <th>3</th>\n",
       "      <td>3348150</td>\n",
       "      <td>148</td>\n",
       "      <td>371.346939</td>\n",
       "      <td>6.0</td>\n",
       "      <td>0.786375</td>\n",
       "      <td>247</td>\n",
       "      <td>50</td>\n",
       "      <td>1207</td>\n",
       "      <td>228</td>\n",
       "      <td>240</td>\n",
       "      <td>...</td>\n",
       "      <td>0</td>\n",
       "      <td>0</td>\n",
       "      <td>0</td>\n",
       "      <td>0</td>\n",
       "      <td>0</td>\n",
       "      <td>0</td>\n",
       "      <td>0</td>\n",
       "      <td>5</td>\n",
       "      <td>1</td>\n",
       "      <td>2</td>\n",
       "    </tr>\n",
       "    <tr>\n",
       "      <th>4</th>\n",
       "      <td>3061955</td>\n",
       "      <td>124</td>\n",
       "      <td>310.783430</td>\n",
       "      <td>11.0</td>\n",
       "      <td>-0.335685</td>\n",
       "      <td>170</td>\n",
       "      <td>19</td>\n",
       "      <td>1595</td>\n",
       "      <td>238</td>\n",
       "      <td>232</td>\n",
       "      <td>...</td>\n",
       "      <td>0</td>\n",
       "      <td>0</td>\n",
       "      <td>0</td>\n",
       "      <td>0</td>\n",
       "      <td>0</td>\n",
       "      <td>0</td>\n",
       "      <td>0</td>\n",
       "      <td>6</td>\n",
       "      <td>1</td>\n",
       "      <td>2</td>\n",
       "    </tr>\n",
       "    <tr>\n",
       "      <th>...</th>\n",
       "      <td>...</td>\n",
       "      <td>...</td>\n",
       "      <td>...</td>\n",
       "      <td>...</td>\n",
       "      <td>...</td>\n",
       "      <td>...</td>\n",
       "      <td>...</td>\n",
       "      <td>...</td>\n",
       "      <td>...</td>\n",
       "      <td>...</td>\n",
       "      <td>...</td>\n",
       "      <td>...</td>\n",
       "      <td>...</td>\n",
       "      <td>...</td>\n",
       "      <td>...</td>\n",
       "      <td>...</td>\n",
       "      <td>...</td>\n",
       "      <td>...</td>\n",
       "      <td>...</td>\n",
       "      <td>...</td>\n",
       "      <td>...</td>\n",
       "    </tr>\n",
       "    <tr>\n",
       "      <th>581007</th>\n",
       "      <td>3236545</td>\n",
       "      <td>117</td>\n",
       "      <td>293.274632</td>\n",
       "      <td>17.0</td>\n",
       "      <td>0.257413</td>\n",
       "      <td>60</td>\n",
       "      <td>0</td>\n",
       "      <td>626</td>\n",
       "      <td>247</td>\n",
       "      <td>222</td>\n",
       "      <td>...</td>\n",
       "      <td>0</td>\n",
       "      <td>0</td>\n",
       "      <td>0</td>\n",
       "      <td>0</td>\n",
       "      <td>0</td>\n",
       "      <td>0</td>\n",
       "      <td>0</td>\n",
       "      <td>581009</td>\n",
       "      <td>1</td>\n",
       "      <td>2</td>\n",
       "    </tr>\n",
       "    <tr>\n",
       "      <th>581008</th>\n",
       "      <td>3751475</td>\n",
       "      <td>321</td>\n",
       "      <td>805.501719</td>\n",
       "      <td>6.0</td>\n",
       "      <td>-0.479762</td>\n",
       "      <td>272</td>\n",
       "      <td>19</td>\n",
       "      <td>2906</td>\n",
       "      <td>204</td>\n",
       "      <td>234</td>\n",
       "      <td>...</td>\n",
       "      <td>0</td>\n",
       "      <td>0</td>\n",
       "      <td>0</td>\n",
       "      <td>0</td>\n",
       "      <td>0</td>\n",
       "      <td>1</td>\n",
       "      <td>0</td>\n",
       "      <td>581010</td>\n",
       "      <td>1</td>\n",
       "      <td>1</td>\n",
       "    </tr>\n",
       "    <tr>\n",
       "      <th>581009</th>\n",
       "      <td>2855320</td>\n",
       "      <td>72</td>\n",
       "      <td>180.453289</td>\n",
       "      <td>6.0</td>\n",
       "      <td>0.946018</td>\n",
       "      <td>0</td>\n",
       "      <td>0</td>\n",
       "      <td>1719</td>\n",
       "      <td>227</td>\n",
       "      <td>228</td>\n",
       "      <td>...</td>\n",
       "      <td>0</td>\n",
       "      <td>0</td>\n",
       "      <td>0</td>\n",
       "      <td>0</td>\n",
       "      <td>0</td>\n",
       "      <td>0</td>\n",
       "      <td>0</td>\n",
       "      <td>581011</td>\n",
       "      <td>1</td>\n",
       "      <td>6</td>\n",
       "    </tr>\n",
       "    <tr>\n",
       "      <th>581010</th>\n",
       "      <td>3004495</td>\n",
       "      <td>100</td>\n",
       "      <td>250.901923</td>\n",
       "      <td>7.0</td>\n",
       "      <td>0.113070</td>\n",
       "      <td>0</td>\n",
       "      <td>0</td>\n",
       "      <td>2067</td>\n",
       "      <td>231</td>\n",
       "      <td>231</td>\n",
       "      <td>...</td>\n",
       "      <td>0</td>\n",
       "      <td>0</td>\n",
       "      <td>0</td>\n",
       "      <td>0</td>\n",
       "      <td>0</td>\n",
       "      <td>0</td>\n",
       "      <td>0</td>\n",
       "      <td>581012</td>\n",
       "      <td>1</td>\n",
       "      <td>2</td>\n",
       "    </tr>\n",
       "    <tr>\n",
       "      <th>581011</th>\n",
       "      <td>3631030</td>\n",
       "      <td>114</td>\n",
       "      <td>285.161169</td>\n",
       "      <td>19.0</td>\n",
       "      <td>0.285539</td>\n",
       "      <td>300</td>\n",
       "      <td>-46</td>\n",
       "      <td>764</td>\n",
       "      <td>249</td>\n",
       "      <td>217</td>\n",
       "      <td>...</td>\n",
       "      <td>0</td>\n",
       "      <td>0</td>\n",
       "      <td>0</td>\n",
       "      <td>0</td>\n",
       "      <td>0</td>\n",
       "      <td>0</td>\n",
       "      <td>0</td>\n",
       "      <td>581013</td>\n",
       "      <td>1</td>\n",
       "      <td>2</td>\n",
       "    </tr>\n",
       "  </tbody>\n",
       "</table>\n",
       "<p>581012 rows × 59 columns</p>\n",
       "</div>"
      ],
      "text/plain": [
       "        Elevation  Aspect       Facet  Slope  Inclination  \\\n",
       "0         3208920     166  415.394727    6.0     0.691628   \n",
       "1         2789020     137  343.302186    9.0     0.621245   \n",
       "2         3384615     357  894.231390    9.0    -0.266086   \n",
       "3         3348150     148  371.346939    6.0     0.786375   \n",
       "4         3061955     124  310.783430   11.0    -0.335685   \n",
       "...           ...     ...         ...    ...          ...   \n",
       "581007    3236545     117  293.274632   17.0     0.257413   \n",
       "581008    3751475     321  805.501719    6.0    -0.479762   \n",
       "581009    2855320      72  180.453289    6.0     0.946018   \n",
       "581010    3004495     100  250.901923    7.0     0.113070   \n",
       "581011    3631030     114  285.161169   19.0     0.285539   \n",
       "\n",
       "        Horizontal_Distance_To_Hydrology  Vertical_Distance_To_Hydrology  \\\n",
       "0                                    408                              62   \n",
       "1                                     30                               2   \n",
       "2                                    362                              15   \n",
       "3                                    247                              50   \n",
       "4                                    170                              19   \n",
       "...                                  ...                             ...   \n",
       "581007                                60                               0   \n",
       "581008                               272                              19   \n",
       "581009                                 0                               0   \n",
       "581010                                 0                               0   \n",
       "581011                               300                             -46   \n",
       "\n",
       "        Horizontal_Distance_To_Roadways  Hillshade_9am  Hillshade_Noon  ...  \\\n",
       "0                                  3137            225             242  ...   \n",
       "1                                  1040            235             237  ...   \n",
       "2                                  3113            207             225  ...   \n",
       "3                                  1207            228             240  ...   \n",
       "4                                  1595            238             232  ...   \n",
       "...                                 ...            ...             ...  ...   \n",
       "581007                              626            247             222  ...   \n",
       "581008                             2906            204             234  ...   \n",
       "581009                             1719            227             228  ...   \n",
       "581010                             2067            231             231  ...   \n",
       "581011                              764            249             217  ...   \n",
       "\n",
       "        Soil_Type34  Soil_Type35  Soil_Type36  Soil_Type37  Soil_Type38  \\\n",
       "0                 0            0            0            0            0   \n",
       "1                 0            0            0            0            0   \n",
       "2                 0            0            0            0            0   \n",
       "3                 0            0            0            0            0   \n",
       "4                 0            0            0            0            0   \n",
       "...             ...          ...          ...          ...          ...   \n",
       "581007            0            0            0            0            0   \n",
       "581008            0            0            0            0            0   \n",
       "581009            0            0            0            0            0   \n",
       "581010            0            0            0            0            0   \n",
       "581011            0            0            0            0            0   \n",
       "\n",
       "        Soil_Type39 Soil_Type40  Observation_ID  Water_Level  Cover_Type  \n",
       "0                 0           0               2            1           2  \n",
       "1                 0           0               3            1           3  \n",
       "2                 0           0               4            1           1  \n",
       "3                 0           0               5            1           2  \n",
       "4                 0           0               6            1           2  \n",
       "...             ...         ...             ...          ...         ...  \n",
       "581007            0           0          581009            1           2  \n",
       "581008            1           0          581010            1           1  \n",
       "581009            0           0          581011            1           6  \n",
       "581010            0           0          581012            1           2  \n",
       "581011            0           0          581013            1           2  \n",
       "\n",
       "[581012 rows x 59 columns]"
      ]
     },
     "metadata": {},
     "output_type": "display_data"
    }
   ],
   "source": [
    "raw_df = pd.read_csv(\"../forestCover.csv\", na_values=\"?\")\n",
    "raw_df = raw_df.rename(columns={\"Observation_ID\":\"Water_Level\" , \"Water_Level\":\"Observation_ID\"})\n",
    "display(raw_df)"
   ]
  },
  {
   "cell_type": "code",
   "execution_count": 40,
   "id": "731cc2fd",
   "metadata": {},
   "outputs": [
    {
     "data": {
      "text/plain": [
       "Cover_Type\n",
       "2    283301\n",
       "1    211840\n",
       "3     35754\n",
       "7     20510\n",
       "6     17367\n",
       "5      9493\n",
       "4      2747\n",
       "Name: count, dtype: int64"
      ]
     },
     "execution_count": 40,
     "metadata": {},
     "output_type": "execute_result"
    }
   ],
   "source": [
    "raw_df[\"Cover_Type\"].value_counts()\n"
   ]
  },
  {
   "cell_type": "code",
   "execution_count": 41,
   "id": "f6b0f2db",
   "metadata": {},
   "outputs": [
    {
     "name": "stdout",
     "output_type": "stream",
     "text": [
      "Index(['Slope'], dtype='object')\n"
     ]
    }
   ],
   "source": [
    "na_col = raw_df.columns[raw_df.isna().any()]\n",
    "print(na_col)"
   ]
  },
  {
   "cell_type": "code",
   "execution_count": 42,
   "id": "9f419ebb",
   "metadata": {},
   "outputs": [
    {
     "data": {
      "text/plain": [
       "np.int64(298)"
      ]
     },
     "execution_count": 42,
     "metadata": {},
     "output_type": "execute_result"
    }
   ],
   "source": [
    "raw_df[\"Slope\"].isna().sum()"
   ]
  },
  {
   "cell_type": "markdown",
   "id": "6a2ec80a",
   "metadata": {},
   "source": [
    "## Data processing\n",
    "The following are data issues in the datset and need to be adressed. \n",
    "- There remain features with missing values, with missing values indicated by the character symbol `?'.\n",
    "- The Facet feature is correlated with the Aspect feature.\n",
    "- The Inclination feature contains only noisy values.\n",
    "- There remain features with outliers.\n",
    "- There remain features with numeric ranges that differ signifcantly from one another.\n",
    "- There are numerical and categorical features.\n",
    "- Feature Water Level has cardinality of one.\n",
    "- Feature Observation ID has a unique value for each observation.\n",
    "- The class distribution remains skew."
   ]
  },
  {
   "cell_type": "code",
   "execution_count": 43,
   "id": "48c7b2ab",
   "metadata": {},
   "outputs": [
    {
     "name": "stdout",
     "output_type": "stream",
     "text": [
      "Corr of Inclination and Cover: 0.0002417782055169697\n",
      "Corr of aspect and facet: 0.9999980536139016\n",
      "Cardinality of water level: 1\n",
      "Cardinality of obs id: 581012\n"
     ]
    }
   ],
   "source": [
    "print(f\"Corr of Inclination and Cover: {raw_df['Inclination'].corr(raw_df['Cover_Type'])}\")\n",
    "print(f\"Corr of aspect and facet: {raw_df['Facet'].corr(raw_df['Aspect'])}\")\n",
    "print(f\"Cardinality of water level: {raw_df['Water_Level'].nunique()}\")\n",
    "print(f\"Cardinality of obs id: {raw_df['Observation_ID'].nunique()}\")\n"
   ]
  },
  {
   "cell_type": "code",
   "execution_count": 44,
   "id": "e935d181",
   "metadata": {},
   "outputs": [],
   "source": [
    "df = raw_df.drop(columns={'Facet','Water_Level','Observation_ID', 'Inclination' })\n"
   ]
  },
  {
   "cell_type": "code",
   "execution_count": 45,
   "id": "848ef3f6",
   "metadata": {},
   "outputs": [
    {
     "name": "stdout",
     "output_type": "stream",
     "text": [
      "Cover_Type\n",
      "1    0.045\n",
      "2    0.055\n",
      "3    0.053\n",
      "4    0.036\n",
      "5    0.021\n",
      "6    0.069\n",
      "7    0.054\n",
      "Name: count, dtype: float64\n"
     ]
    }
   ],
   "source": [
    "na_rows = df.index[df.isna().any(axis=1)]\n",
    "\n",
    "\n",
    "\n",
    "na_proportions = (df[\"Cover_Type\"][na_rows].value_counts() /  df[\"Cover_Type\"].value_counts() * 100).round(3)\n",
    "print(na_proportions)\n",
    "\n",
    "\n"
   ]
  },
  {
   "cell_type": "code",
   "execution_count": 46,
   "id": "c1572151",
   "metadata": {},
   "outputs": [],
   "source": [
    "df = df.dropna()"
   ]
  },
  {
   "cell_type": "code",
   "execution_count": 47,
   "id": "9dc5b4cf",
   "metadata": {},
   "outputs": [
    {
     "data": {
      "text/plain": [
       "Soil_Type1\n",
       "positive    577685\n",
       "negative      3029\n",
       "Name: count, dtype: int64"
      ]
     },
     "execution_count": 47,
     "metadata": {},
     "output_type": "execute_result"
    }
   ],
   "source": [
    "df['Soil_Type1'].value_counts()"
   ]
  },
  {
   "cell_type": "code",
   "execution_count": 48,
   "id": "af1601e3",
   "metadata": {},
   "outputs": [
    {
     "data": {
      "text/plain": [
       "Soil_Type1\n",
       "1    577685\n",
       "0      3029\n",
       "Name: count, dtype: int64"
      ]
     },
     "execution_count": 48,
     "metadata": {},
     "output_type": "execute_result"
    }
   ],
   "source": [
    "df[\"Soil_Type1\"] = (df[\"Soil_Type1\"] == 'positive').astype(int)\n",
    "df[\"Soil_Type1\"].value_counts()"
   ]
  },
  {
   "cell_type": "markdown",
   "id": "1155873c",
   "metadata": {},
   "source": [
    "There is little correlation between missingness and the covertype, the most missing instances are fall into class 2 which is most common, therefore we can drop na columns"
   ]
  },
  {
   "cell_type": "code",
   "execution_count": 49,
   "id": "0c8581c7",
   "metadata": {},
   "outputs": [
    {
     "data": {
      "image/png": "[encoded data removed]",
      "text/plain": [
       "<Figure size 500x1500 with 10 Axes>"
      ]
     },
     "metadata": {},
     "output_type": "display_data"
    }
   ],
   "source": [
    "continuous_features = [\n",
    "    \"Elevation\",\n",
    "    \"Aspect\",\n",
    "    \"Slope\",\n",
    "    \"Horizontal_Distance_To_Hydrology\",\n",
    "    \"Vertical_Distance_To_Hydrology\",\n",
    "    \"Horizontal_Distance_To_Roadways\",\n",
    "    \"Hillshade_9am\",\n",
    "    \"Hillshade_Noon\",\n",
    "    \"Hillshade_3pm\",\n",
    "    \"Horizontal_Distance_To_Fire_Points\"\n",
    "]\n",
    "\n",
    "# Plot distributions\n",
    "fig, axes = plt.subplots(len(continuous_features), 1, figsize=(5, 15))\n",
    "\n",
    "for i, col in enumerate(continuous_features):\n",
    "    sns.histplot(df[col], bins=50, kde=True, ax=axes[i], color=\"steelblue\")\n",
    "    axes[i].set_title(f\"Distribution of {col}\")\n",
    "    axes[i].set_xlabel(\"\")\n",
    "    axes[i].set_ylabel(\"Count\")\n",
    "\n",
    "plt.tight_layout()\n",
    "plt.show()"
   ]
  },
  {
   "cell_type": "code",
   "execution_count": 50,
   "id": "fc25577a",
   "metadata": {},
   "outputs": [
    {
     "data": {
      "text/plain": [
       "count    580714.000000\n",
       "mean        155.657413\n",
       "std         111.914681\n",
       "min           0.000000\n",
       "25%          58.000000\n",
       "50%         127.000000\n",
       "75%         260.000000\n",
       "max         360.000000\n",
       "Name: Aspect, dtype: float64"
      ]
     },
     "execution_count": 50,
     "metadata": {},
     "output_type": "execute_result"
    }
   ],
   "source": [
    "df[\"Aspect\"].describe()"
   ]
  },
  {
   "cell_type": "markdown",
   "id": "ec2a8112",
   "metadata": {},
   "source": [
    "## Data Augmnetation"
   ]
  },
  {
   "cell_type": "code",
   "execution_count": 51,
   "id": "1b26bf9f",
   "metadata": {},
   "outputs": [],
   "source": [
    "df_aug = df.copy()"
   ]
  },
  {
   "cell_type": "markdown",
   "id": "9a3397de",
   "metadata": {},
   "source": [
    "### PCA"
   ]
  },
  {
   "cell_type": "code",
   "execution_count": null,
   "id": "80e65901",
   "metadata": {},
   "outputs": [],
   "source": []
  },
  {
   "cell_type": "code",
   "execution_count": 52,
   "id": "87f9f520",
   "metadata": {},
   "outputs": [],
   "source": [
    "outlier_features = [\n",
    "    \"Horizontal_Distance_To_Hydrology\",\n",
    "    \"Hillshade_Noon\",\n",
    "    \"Vertical_Distance_To_Hydrology\",\n",
    "]\n",
    "\n",
    "def clamp_series(s, lower_q=0.01, upper_q=0.99):\n",
    "    lower, upper = s.quantile([lower_q, upper_q])\n",
    "    return s.clip(lower, upper)\n",
    "\n",
    "# apply clamping\n",
    "for col in outlier_features:\n",
    "    df[col] = clamp_series(df[col], 0.01, 0.99)\n",
    "\n",
    "\n",
    "\n",
    "continuous_features = [\n",
    "    \"Elevation\",\n",
    "    \"Slope\",\n",
    "    \"Horizontal_Distance_To_Hydrology\",\n",
    "    \"Vertical_Distance_To_Hydrology\",\n",
    "    \"Horizontal_Distance_To_Roadways\",\n",
    "    \"Hillshade_9am\",\n",
    "    \"Hillshade_Noon\",\n",
    "    \"Hillshade_3pm\",\n",
    "    \"Horizontal_Distance_To_Fire_Points\",\n",
    "]\n",
    "\n",
    "df_pca = df.copy()\n",
    "\n",
    "# --- Robust scaling for distance-based kNN (handles outliers better than z-score)\n",
    "scaler = MinMaxScaler()\n",
    "df_pca[continuous_features] = scaler.fit_transform(df_pca[continuous_features])\n",
    "\n",
    "# --- Cyclical encoding for Aspect (DO NOT scale these)\n",
    "df_pca[\"Aspect_rad\"] = np.deg2rad(df_pca[\"Aspect\"])\n",
    "df_pca[\"Aspect_sin\"] = np.sin(df_pca[\"Aspect_rad\"])\n",
    "df_pca[\"Aspect_cos\"] = np.cos(df_pca[\"Aspect_rad\"])\n",
    "df_pca = df_pca.drop(columns=[\"Aspect\", \"Aspect_rad\"])\n",
    "\n",
    "# Final list for plotting\n",
    "\n",
    "X = df_pca.drop(columns={\"Cover_Type\"})\n",
    "y = df_pca[\"Cover_Type\"]"
   ]
  },
  {
   "cell_type": "code",
   "execution_count": 53,
   "id": "06537ffc",
   "metadata": {},
   "outputs": [
    {
     "data": {
      "text/html": [
       "<div>\n",
       "<style scoped>\n",
       "    .dataframe tbody tr th:only-of-type {\n",
       "        vertical-align: middle;\n",
       "    }\n",
       "\n",
       "    .dataframe tbody tr th {\n",
       "        vertical-align: top;\n",
       "    }\n",
       "\n",
       "    .dataframe thead th {\n",
       "        text-align: right;\n",
       "    }\n",
       "</style>\n",
       "<table border=\"1\" class=\"dataframe\">\n",
       "  <thead>\n",
       "    <tr style=\"text-align: right;\">\n",
       "      <th></th>\n",
       "      <th>Elevation</th>\n",
       "      <th>Slope</th>\n",
       "      <th>Horizontal_Distance_To_Hydrology</th>\n",
       "      <th>Vertical_Distance_To_Hydrology</th>\n",
       "      <th>Horizontal_Distance_To_Roadways</th>\n",
       "      <th>Hillshade_9am</th>\n",
       "      <th>Hillshade_Noon</th>\n",
       "      <th>Hillshade_3pm</th>\n",
       "      <th>Horizontal_Distance_To_Fire_Points</th>\n",
       "      <th>Wilderness_Area1</th>\n",
       "      <th>...</th>\n",
       "      <th>Soil_Type33</th>\n",
       "      <th>Soil_Type34</th>\n",
       "      <th>Soil_Type35</th>\n",
       "      <th>Soil_Type36</th>\n",
       "      <th>Soil_Type37</th>\n",
       "      <th>Soil_Type38</th>\n",
       "      <th>Soil_Type39</th>\n",
       "      <th>Soil_Type40</th>\n",
       "      <th>Aspect_sin</th>\n",
       "      <th>Aspect_cos</th>\n",
       "    </tr>\n",
       "  </thead>\n",
       "  <tbody>\n",
       "    <tr>\n",
       "      <th>0</th>\n",
       "      <td>0.522761</td>\n",
       "      <td>0.090909</td>\n",
       "      <td>0.435432</td>\n",
       "      <td>0.354949</td>\n",
       "      <td>0.440776</td>\n",
       "      <td>0.885827</td>\n",
       "      <td>0.869565</td>\n",
       "      <td>0.594488</td>\n",
       "      <td>0.329848</td>\n",
       "      <td>1</td>\n",
       "      <td>...</td>\n",
       "      <td>0</td>\n",
       "      <td>0</td>\n",
       "      <td>0</td>\n",
       "      <td>0</td>\n",
       "      <td>0</td>\n",
       "      <td>0</td>\n",
       "      <td>0</td>\n",
       "      <td>0</td>\n",
       "      <td>0.241922</td>\n",
       "      <td>-0.970296</td>\n",
       "    </tr>\n",
       "    <tr>\n",
       "      <th>1</th>\n",
       "      <td>0.332666</td>\n",
       "      <td>0.136364</td>\n",
       "      <td>0.032017</td>\n",
       "      <td>0.150171</td>\n",
       "      <td>0.146129</td>\n",
       "      <td>0.925197</td>\n",
       "      <td>0.815217</td>\n",
       "      <td>0.523622</td>\n",
       "      <td>0.251499</td>\n",
       "      <td>0</td>\n",
       "      <td>...</td>\n",
       "      <td>0</td>\n",
       "      <td>0</td>\n",
       "      <td>0</td>\n",
       "      <td>0</td>\n",
       "      <td>0</td>\n",
       "      <td>0</td>\n",
       "      <td>0</td>\n",
       "      <td>0</td>\n",
       "      <td>0.681998</td>\n",
       "      <td>-0.731354</td>\n",
       "    </tr>\n",
       "    <tr>\n",
       "      <th>2</th>\n",
       "      <td>0.602301</td>\n",
       "      <td>0.136364</td>\n",
       "      <td>0.386339</td>\n",
       "      <td>0.194539</td>\n",
       "      <td>0.437403</td>\n",
       "      <td>0.814961</td>\n",
       "      <td>0.684783</td>\n",
       "      <td>0.614173</td>\n",
       "      <td>0.041126</td>\n",
       "      <td>1</td>\n",
       "      <td>...</td>\n",
       "      <td>0</td>\n",
       "      <td>0</td>\n",
       "      <td>0</td>\n",
       "      <td>0</td>\n",
       "      <td>0</td>\n",
       "      <td>0</td>\n",
       "      <td>0</td>\n",
       "      <td>0</td>\n",
       "      <td>-0.052336</td>\n",
       "      <td>0.998630</td>\n",
       "    </tr>\n",
       "    <tr>\n",
       "      <th>3</th>\n",
       "      <td>0.585793</td>\n",
       "      <td>0.090909</td>\n",
       "      <td>0.263607</td>\n",
       "      <td>0.313993</td>\n",
       "      <td>0.169594</td>\n",
       "      <td>0.897638</td>\n",
       "      <td>0.847826</td>\n",
       "      <td>0.570866</td>\n",
       "      <td>0.335285</td>\n",
       "      <td>1</td>\n",
       "      <td>...</td>\n",
       "      <td>0</td>\n",
       "      <td>0</td>\n",
       "      <td>0</td>\n",
       "      <td>0</td>\n",
       "      <td>0</td>\n",
       "      <td>0</td>\n",
       "      <td>0</td>\n",
       "      <td>0</td>\n",
       "      <td>0.529919</td>\n",
       "      <td>-0.848048</td>\n",
       "    </tr>\n",
       "    <tr>\n",
       "      <th>4</th>\n",
       "      <td>0.456228</td>\n",
       "      <td>0.166667</td>\n",
       "      <td>0.181430</td>\n",
       "      <td>0.208191</td>\n",
       "      <td>0.224111</td>\n",
       "      <td>0.937008</td>\n",
       "      <td>0.760870</td>\n",
       "      <td>0.488189</td>\n",
       "      <td>0.395511</td>\n",
       "      <td>1</td>\n",
       "      <td>...</td>\n",
       "      <td>0</td>\n",
       "      <td>0</td>\n",
       "      <td>0</td>\n",
       "      <td>0</td>\n",
       "      <td>0</td>\n",
       "      <td>0</td>\n",
       "      <td>0</td>\n",
       "      <td>0</td>\n",
       "      <td>0.829038</td>\n",
       "      <td>-0.559193</td>\n",
       "    </tr>\n",
       "    <tr>\n",
       "      <th>...</th>\n",
       "      <td>...</td>\n",
       "      <td>...</td>\n",
       "      <td>...</td>\n",
       "      <td>...</td>\n",
       "      <td>...</td>\n",
       "      <td>...</td>\n",
       "      <td>...</td>\n",
       "      <td>...</td>\n",
       "      <td>...</td>\n",
       "      <td>...</td>\n",
       "      <td>...</td>\n",
       "      <td>...</td>\n",
       "      <td>...</td>\n",
       "      <td>...</td>\n",
       "      <td>...</td>\n",
       "      <td>...</td>\n",
       "      <td>...</td>\n",
       "      <td>...</td>\n",
       "      <td>...</td>\n",
       "      <td>...</td>\n",
       "      <td>...</td>\n",
       "    </tr>\n",
       "    <tr>\n",
       "      <th>581007</th>\n",
       "      <td>0.535268</td>\n",
       "      <td>0.257576</td>\n",
       "      <td>0.064034</td>\n",
       "      <td>0.143345</td>\n",
       "      <td>0.087958</td>\n",
       "      <td>0.972441</td>\n",
       "      <td>0.652174</td>\n",
       "      <td>0.385827</td>\n",
       "      <td>0.321902</td>\n",
       "      <td>1</td>\n",
       "      <td>...</td>\n",
       "      <td>0</td>\n",
       "      <td>0</td>\n",
       "      <td>0</td>\n",
       "      <td>0</td>\n",
       "      <td>0</td>\n",
       "      <td>0</td>\n",
       "      <td>0</td>\n",
       "      <td>0</td>\n",
       "      <td>0.891007</td>\n",
       "      <td>-0.453990</td>\n",
       "    </tr>\n",
       "    <tr>\n",
       "      <th>581008</th>\n",
       "      <td>0.768384</td>\n",
       "      <td>0.090909</td>\n",
       "      <td>0.290288</td>\n",
       "      <td>0.208191</td>\n",
       "      <td>0.408318</td>\n",
       "      <td>0.803150</td>\n",
       "      <td>0.782609</td>\n",
       "      <td>0.665354</td>\n",
       "      <td>0.287049</td>\n",
       "      <td>1</td>\n",
       "      <td>...</td>\n",
       "      <td>0</td>\n",
       "      <td>0</td>\n",
       "      <td>0</td>\n",
       "      <td>0</td>\n",
       "      <td>0</td>\n",
       "      <td>0</td>\n",
       "      <td>1</td>\n",
       "      <td>0</td>\n",
       "      <td>-0.629320</td>\n",
       "      <td>0.777146</td>\n",
       "    </tr>\n",
       "    <tr>\n",
       "      <th>581009</th>\n",
       "      <td>0.362681</td>\n",
       "      <td>0.090909</td>\n",
       "      <td>0.000000</td>\n",
       "      <td>0.143345</td>\n",
       "      <td>0.241534</td>\n",
       "      <td>0.893701</td>\n",
       "      <td>0.717391</td>\n",
       "      <td>0.535433</td>\n",
       "      <td>0.407361</td>\n",
       "      <td>0</td>\n",
       "      <td>...</td>\n",
       "      <td>0</td>\n",
       "      <td>0</td>\n",
       "      <td>0</td>\n",
       "      <td>0</td>\n",
       "      <td>0</td>\n",
       "      <td>0</td>\n",
       "      <td>0</td>\n",
       "      <td>0</td>\n",
       "      <td>0.951057</td>\n",
       "      <td>0.309017</td>\n",
       "    </tr>\n",
       "    <tr>\n",
       "      <th>581010</th>\n",
       "      <td>0.430215</td>\n",
       "      <td>0.106061</td>\n",
       "      <td>0.000000</td>\n",
       "      <td>0.143345</td>\n",
       "      <td>0.290431</td>\n",
       "      <td>0.909449</td>\n",
       "      <td>0.750000</td>\n",
       "      <td>0.523622</td>\n",
       "      <td>0.175659</td>\n",
       "      <td>1</td>\n",
       "      <td>...</td>\n",
       "      <td>0</td>\n",
       "      <td>0</td>\n",
       "      <td>0</td>\n",
       "      <td>0</td>\n",
       "      <td>0</td>\n",
       "      <td>0</td>\n",
       "      <td>0</td>\n",
       "      <td>0</td>\n",
       "      <td>0.984808</td>\n",
       "      <td>-0.173648</td>\n",
       "    </tr>\n",
       "    <tr>\n",
       "      <th>581011</th>\n",
       "      <td>0.713857</td>\n",
       "      <td>0.287879</td>\n",
       "      <td>0.320171</td>\n",
       "      <td>0.000000</td>\n",
       "      <td>0.107349</td>\n",
       "      <td>0.980315</td>\n",
       "      <td>0.597826</td>\n",
       "      <td>0.342520</td>\n",
       "      <td>0.490032</td>\n",
       "      <td>0</td>\n",
       "      <td>...</td>\n",
       "      <td>0</td>\n",
       "      <td>0</td>\n",
       "      <td>0</td>\n",
       "      <td>0</td>\n",
       "      <td>0</td>\n",
       "      <td>0</td>\n",
       "      <td>0</td>\n",
       "      <td>0</td>\n",
       "      <td>0.913545</td>\n",
       "      <td>-0.406737</td>\n",
       "    </tr>\n",
       "  </tbody>\n",
       "</table>\n",
       "<p>580714 rows × 55 columns</p>\n",
       "</div>"
      ],
      "text/plain": [
       "        Elevation     Slope  Horizontal_Distance_To_Hydrology  \\\n",
       "0        0.522761  0.090909                          0.435432   \n",
       "1        0.332666  0.136364                          0.032017   \n",
       "2        0.602301  0.136364                          0.386339   \n",
       "3        0.585793  0.090909                          0.263607   \n",
       "4        0.456228  0.166667                          0.181430   \n",
       "...           ...       ...                               ...   \n",
       "581007   0.535268  0.257576                          0.064034   \n",
       "581008   0.768384  0.090909                          0.290288   \n",
       "581009   0.362681  0.090909                          0.000000   \n",
       "581010   0.430215  0.106061                          0.000000   \n",
       "581011   0.713857  0.287879                          0.320171   \n",
       "\n",
       "        Vertical_Distance_To_Hydrology  Horizontal_Distance_To_Roadways  \\\n",
       "0                             0.354949                         0.440776   \n",
       "1                             0.150171                         0.146129   \n",
       "2                             0.194539                         0.437403   \n",
       "3                             0.313993                         0.169594   \n",
       "4                             0.208191                         0.224111   \n",
       "...                                ...                              ...   \n",
       "581007                        0.143345                         0.087958   \n",
       "581008                        0.208191                         0.408318   \n",
       "581009                        0.143345                         0.241534   \n",
       "581010                        0.143345                         0.290431   \n",
       "581011                        0.000000                         0.107349   \n",
       "\n",
       "        Hillshade_9am  Hillshade_Noon  Hillshade_3pm  \\\n",
       "0            0.885827        0.869565       0.594488   \n",
       "1            0.925197        0.815217       0.523622   \n",
       "2            0.814961        0.684783       0.614173   \n",
       "3            0.897638        0.847826       0.570866   \n",
       "4            0.937008        0.760870       0.488189   \n",
       "...               ...             ...            ...   \n",
       "581007       0.972441        0.652174       0.385827   \n",
       "581008       0.803150        0.782609       0.665354   \n",
       "581009       0.893701        0.717391       0.535433   \n",
       "581010       0.909449        0.750000       0.523622   \n",
       "581011       0.980315        0.597826       0.342520   \n",
       "\n",
       "        Horizontal_Distance_To_Fire_Points  Wilderness_Area1  ...  \\\n",
       "0                                 0.329848                 1  ...   \n",
       "1                                 0.251499                 0  ...   \n",
       "2                                 0.041126                 1  ...   \n",
       "3                                 0.335285                 1  ...   \n",
       "4                                 0.395511                 1  ...   \n",
       "...                                    ...               ...  ...   \n",
       "581007                            0.321902                 1  ...   \n",
       "581008                            0.287049                 1  ...   \n",
       "581009                            0.407361                 0  ...   \n",
       "581010                            0.175659                 1  ...   \n",
       "581011                            0.490032                 0  ...   \n",
       "\n",
       "        Soil_Type33  Soil_Type34  Soil_Type35  Soil_Type36  Soil_Type37  \\\n",
       "0                 0            0            0            0            0   \n",
       "1                 0            0            0            0            0   \n",
       "2                 0            0            0            0            0   \n",
       "3                 0            0            0            0            0   \n",
       "4                 0            0            0            0            0   \n",
       "...             ...          ...          ...          ...          ...   \n",
       "581007            0            0            0            0            0   \n",
       "581008            0            0            0            0            0   \n",
       "581009            0            0            0            0            0   \n",
       "581010            0            0            0            0            0   \n",
       "581011            0            0            0            0            0   \n",
       "\n",
       "        Soil_Type38  Soil_Type39  Soil_Type40  Aspect_sin  Aspect_cos  \n",
       "0                 0            0            0    0.241922   -0.970296  \n",
       "1                 0            0            0    0.681998   -0.731354  \n",
       "2                 0            0            0   -0.052336    0.998630  \n",
       "3                 0            0            0    0.529919   -0.848048  \n",
       "4                 0            0            0    0.829038   -0.559193  \n",
       "...             ...          ...          ...         ...         ...  \n",
       "581007            0            0            0    0.891007   -0.453990  \n",
       "581008            0            1            0   -0.629320    0.777146  \n",
       "581009            0            0            0    0.951057    0.309017  \n",
       "581010            0            0            0    0.984808   -0.173648  \n",
       "581011            0            0            0    0.913545   -0.406737  \n",
       "\n",
       "[580714 rows x 55 columns]"
      ]
     },
     "execution_count": 53,
     "metadata": {},
     "output_type": "execute_result"
    }
   ],
   "source": [
    "X"
   ]
  },
  {
   "cell_type": "code",
   "execution_count": 54,
   "id": "65c3a3bb",
   "metadata": {},
   "outputs": [
    {
     "data": {
      "image/png": "[encoded data removed]",
      "text/plain": [
       "<Figure size 800x500 with 1 Axes>"
      ]
     },
     "metadata": {},
     "output_type": "display_data"
    }
   ],
   "source": [
    "pca_te = PCA(n_components=None)\n",
    "X_pca = pca_te.fit_transform(X)\n",
    "\n",
    "explained_var = pca_te.explained_variance_ratio_\n",
    "cum_var = explained_var.cumsum()\n",
    "\n",
    "plt.figure(figsize=(8, 5))\n",
    "\n",
    "plt.plot(range(1, len(explained_var)+1),cum_var )\n",
    "plt.xlabel(\"Number of PCs\")\n",
    "plt.ylabel(\"CUmulative var explained\")\n",
    "plt.title(\"PCA explained variance\")\n",
    "plt.show()\n"
   ]
  },
  {
   "cell_type": "code",
   "execution_count": 55,
   "id": "c9624262",
   "metadata": {},
   "outputs": [
    {
     "data": {
      "text/plain": [
       "(580714, 17)"
      ]
     },
     "execution_count": 55,
     "metadata": {},
     "output_type": "execute_result"
    }
   ],
   "source": [
    "pca = PCA(n_components=0.90)\n",
    "X_pca = pca.fit_transform(X)\n",
    "\n",
    "X_pca.shape"
   ]
  },
  {
   "cell_type": "code",
   "execution_count": 56,
   "id": "77ae195d",
   "metadata": {},
   "outputs": [
    {
     "data": {
      "image/png": "[encoded data removed]",
      "text/plain": [
       "<Figure size 1400x1000 with 2 Axes>"
      ]
     },
     "metadata": {},
     "output_type": "display_data"
    }
   ],
   "source": [
    "# Compute correlation matrix\n",
    "corr = df.corr(numeric_only=True)  # only numeric features\n",
    "\n",
    "# Plot heatmap\n",
    "plt.figure(figsize=(14, 10))\n",
    "sns.heatmap(corr, cmap=\"coolwarm\", center=0, annot=False, fmt=\".2f\", cbar=True)\n",
    "\n",
    "plt.title(\"Correlation Heatmap of Features\", fontsize=16)\n",
    "plt.show()"
   ]
  },
  {
   "cell_type": "markdown",
   "id": "df73fb43",
   "metadata": {},
   "source": [
    "## Classification Tree"
   ]
  },
  {
   "cell_type": "code",
   "execution_count": 57,
   "id": "a2021c59",
   "metadata": {},
   "outputs": [],
   "source": [
    "y = df[\"Cover_Type\"]\n",
    "X = df.drop(columns=\"Cover_Type\")\n",
    "\n",
    "X_train, X_test, y_train, y_test = train_test_split(X, y, test_size=0.33, random_state=42)\n",
    "\n",
    "\n",
    "X_train_pca, X_test_pca, y_train_pca, y_test_pca = train_test_split(X_pca, y, test_size=0.33, random_state=42)"
   ]
  },
  {
   "cell_type": "code",
   "execution_count": 58,
   "id": "bb7588e7",
   "metadata": {},
   "outputs": [
    {
     "name": "stderr",
     "output_type": "stream",
     "text": [
      "c:\\Users\\jamie\\anaconda3\\envs\\datsci\\Lib\\site-packages\\threadpoolctl.py:1226: RuntimeWarning: \n",
      "Found Intel OpenMP ('libiomp') and LLVM OpenMP ('libomp') loaded at\n",
      "the same time. Both libraries are known to be incompatible and this\n",
      "can cause random crashes or deadlocks on Linux when loaded in the\n",
      "same Python program.\n",
      "Using threadpoolctl may cause crashes or deadlocks. For more\n",
      "information and possible workarounds, please see\n",
      "    https://github.com/joblib/threadpoolctl/blob/master/multiple_openmp.md\n",
      "\n",
      "  warnings.warn(msg, RuntimeWarning)\n"
     ]
    }
   ],
   "source": [
    "tomek = TomekLinks(sampling_strategy='auto')\n",
    "\n",
    "X_train_t, y_train_t = tomek.fit_resample(X_train, y_train)\n",
    "\n",
    "pca_X_train_t, pca_y_train_t = tomek.fit_resample(X_train_pca, y_train_pca)"
   ]
  },
  {
   "cell_type": "code",
   "execution_count": 59,
   "id": "16b48ec9",
   "metadata": {},
   "outputs": [],
   "source": [
    "smote = SMOTETomek(random_state=42)\n",
    "\n",
    "X_train_s, y_train_s = smote.fit_resample(X_train, y_train)\n",
    "pca_X_train_s, pca_y_train_s = smote.fit_resample(X_train_pca, y_train_pca)\n"
   ]
  },
  {
   "cell_type": "markdown",
   "id": "3a6bc43d",
   "metadata": {},
   "source": [
    "## Tomek model"
   ]
  },
  {
   "cell_type": "markdown",
   "id": "a04aace0",
   "metadata": {},
   "source": [
    "entropy"
   ]
  },
  {
   "cell_type": "code",
   "execution_count": 60,
   "id": "32cbad18",
   "metadata": {},
   "outputs": [
    {
     "name": "stdout",
     "output_type": "stream",
     "text": [
      "Tomek train acc: 1.0\n",
      "Tomek test acc: 0.9274353461771274\n"
     ]
    }
   ],
   "source": [
    "\n",
    "CT_tomek = DecisionTreeClassifier( criterion = 'gini', random_state=42)\n",
    "CT_tomek.fit(X_train_t, y_train_t)\n",
    "CT_tomek_tr_acc = CT_tomek.score(X_train_t, y_train_t)\n",
    "CT_tomek_te_acc = CT_tomek.score(X_test, y_test)\n",
    "\n",
    "print(f\"Tomek train acc: {CT_tomek_tr_acc}\")\n",
    "print(f\"Tomek test acc: {CT_tomek_te_acc}\")"
   ]
  },
  {
   "cell_type": "code",
   "execution_count": 61,
   "id": "4e0a3497",
   "metadata": {},
   "outputs": [
    {
     "data": {
      "text/plain": [
       "(365698, 17)"
      ]
     },
     "execution_count": 61,
     "metadata": {},
     "output_type": "execute_result"
    }
   ],
   "source": [
    "pca_X_train_t.shape"
   ]
  },
  {
   "cell_type": "code",
   "execution_count": 62,
   "id": "0b9f2e2f",
   "metadata": {},
   "outputs": [
    {
     "name": "stdout",
     "output_type": "stream",
     "text": [
      "Tomek train acc: 1.0\n",
      "Tomek test acc: 0.8529086392953308\n"
     ]
    }
   ],
   "source": [
    "\n",
    "CT_tomek_pca = DecisionTreeClassifier( criterion = 'gini', random_state=42)\n",
    "CT_tomek_pca.fit(pca_X_train_t, pca_y_train_t)\n",
    "CT_tomek_tr_acc = CT_tomek_pca.score(pca_X_train_t, pca_y_train_t)\n",
    "CT_tomek_te_acc = CT_tomek_pca.score(X_test_pca, y_test_pca)\n",
    "\n",
    "print(f\"Tomek train acc: {CT_tomek_tr_acc}\")\n",
    "print(f\"Tomek test acc: {CT_tomek_te_acc}\")"
   ]
  },
  {
   "cell_type": "markdown",
   "id": "47abd0e3",
   "metadata": {},
   "source": [
    "gini"
   ]
  },
  {
   "cell_type": "code",
   "execution_count": 63,
   "id": "8bec6eb7",
   "metadata": {},
   "outputs": [
    {
     "name": "stdout",
     "output_type": "stream",
     "text": [
      "Tomek train acc: 1.0\n",
      "Tomek test acc: 0.9274353461771274\n"
     ]
    }
   ],
   "source": [
    "CT_tomek_g = DecisionTreeClassifier( criterion = 'gini', random_state=42)\n",
    "CT_tomek_g.fit(X_train_t, y_train_t)\n",
    "CT_tomek_tr_acc_g = CT_tomek_g.score(X_train_t, y_train_t)\n",
    "CT_tomek_te_acc_g = CT_tomek_g.score(X_test, y_test)\n",
    "\n",
    "print(f\"Tomek train acc: {CT_tomek_tr_acc_g}\")\n",
    "\n",
    "print(f\"Tomek test acc: {CT_tomek_te_acc_g}\")"
   ]
  },
  {
   "cell_type": "code",
   "execution_count": 64,
   "id": "a3c93e22",
   "metadata": {},
   "outputs": [],
   "source": [
    "# param_grid = {\n",
    "#     \"min_samples_leaf\": [100, 500, 1000, 2000, 5000],\n",
    "# }\n",
    "# clf = DecisionTreeClassifier(random_state=42)\n",
    "# grid = GridSearchCV(clf, param_grid, cv=3, scoring=\"accuracy\", n_jobs=-1)\n",
    "# grid.fit(X_train_t, y_train_t)\n",
    "\n",
    "# print(grid.best_params_, grid.best_score_)"
   ]
  },
  {
   "cell_type": "code",
   "execution_count": 65,
   "id": "8de0331c",
   "metadata": {},
   "outputs": [
    {
     "name": "stderr",
     "output_type": "stream",
     "text": [
      "c:\\Users\\jamie\\anaconda3\\envs\\datsci\\Lib\\site-packages\\sklearn\\model_selection\\_validation.py:516: FitFailedWarning: \n",
      "3 fits failed out of a total of 9.\n",
      "The score on these train-test partitions for these parameters will be set to nan.\n",
      "If these failures are not expected, you can try to debug them by setting error_score='raise'.\n",
      "\n",
      "Below are more details about the failures:\n",
      "--------------------------------------------------------------------------------\n",
      "2 fits failed with the following error:\n",
      "Traceback (most recent call last):\n",
      "  File \"c:\\Users\\jamie\\anaconda3\\envs\\datsci\\Lib\\site-packages\\sklearn\\model_selection\\_validation.py\", line 859, in _fit_and_score\n",
      "    estimator.fit(X_train, y_train, **fit_params)\n",
      "  File \"c:\\Users\\jamie\\anaconda3\\envs\\datsci\\Lib\\site-packages\\sklearn\\base.py\", line 1358, in wrapper\n",
      "    estimator._validate_params()\n",
      "  File \"c:\\Users\\jamie\\anaconda3\\envs\\datsci\\Lib\\site-packages\\sklearn\\base.py\", line 471, in _validate_params\n",
      "    validate_parameter_constraints(\n",
      "  File \"c:\\Users\\jamie\\anaconda3\\envs\\datsci\\Lib\\site-packages\\sklearn\\utils\\_param_validation.py\", line 98, in validate_parameter_constraints\n",
      "    raise InvalidParameterError(\n",
      "sklearn.utils._param_validation.InvalidParameterError: The 'max_features' parameter of DecisionTreeClassifier must be an int in the range [1, inf), a float in the range (0.0, 1.0], a str among {'sqrt', 'log2'} or None. Got 'auto' instead.\n",
      "\n",
      "--------------------------------------------------------------------------------\n",
      "1 fits failed with the following error:\n",
      "Traceback (most recent call last):\n",
      "  File \"c:\\Users\\jamie\\anaconda3\\envs\\datsci\\Lib\\site-packages\\sklearn\\model_selection\\_validation.py\", line 859, in _fit_and_score\n",
      "    estimator.fit(X_train, y_train, **fit_params)\n",
      "  File \"c:\\Users\\jamie\\anaconda3\\envs\\datsci\\Lib\\site-packages\\sklearn\\base.py\", line 1358, in wrapper\n",
      "    estimator._validate_params()\n",
      "  File \"c:\\Users\\jamie\\anaconda3\\envs\\datsci\\Lib\\site-packages\\sklearn\\base.py\", line 471, in _validate_params\n",
      "    validate_parameter_constraints(\n",
      "  File \"c:\\Users\\jamie\\anaconda3\\envs\\datsci\\Lib\\site-packages\\sklearn\\utils\\_param_validation.py\", line 98, in validate_parameter_constraints\n",
      "    raise InvalidParameterError(\n",
      "sklearn.utils._param_validation.InvalidParameterError: The 'max_features' parameter of DecisionTreeClassifier must be an int in the range [1, inf), a float in the range (0.0, 1.0], a str among {'log2', 'sqrt'} or None. Got 'auto' instead.\n",
      "\n",
      "  warnings.warn(some_fits_failed_message, FitFailedWarning)\n",
      "c:\\Users\\jamie\\anaconda3\\envs\\datsci\\Lib\\site-packages\\sklearn\\model_selection\\_search.py:1135: UserWarning: One or more of the test scores are non-finite: [       nan 0.87617679 0.85710813]\n",
      "  warnings.warn(\n"
     ]
    },
    {
     "name": "stdout",
     "output_type": "stream",
     "text": [
      "{'max_features': 'sqrt'} 0.8761767899951963\n"
     ]
    }
   ],
   "source": [
    "param_grid = {\n",
    "    \"max_features\": [\"auto\", \"sqrt\", \"log2\"]\n",
    "}\n",
    "clf = DecisionTreeClassifier( random_state=42)\n",
    "grid = GridSearchCV(clf, param_grid, cv=3, scoring=\"accuracy\", n_jobs=-1)\n",
    "grid.fit(X_train_t, y_train_t)\n",
    "\n",
    "print(grid.best_params_, grid.best_score_)"
   ]
  },
  {
   "cell_type": "code",
   "execution_count": null,
   "id": "2cd15741",
   "metadata": {},
   "outputs": [],
   "source": []
  },
  {
   "cell_type": "markdown",
   "id": "f923d061",
   "metadata": {},
   "source": [
    "### Smote"
   ]
  },
  {
   "cell_type": "code",
   "execution_count": 66,
   "id": "b73166c1",
   "metadata": {},
   "outputs": [
    {
     "name": "stdout",
     "output_type": "stream",
     "text": [
      "Smote train acc: 1.0\n",
      "Smote test acc: 0.8573128222254691\n"
     ]
    }
   ],
   "source": [
    "CT_smote = DecisionTreeClassifier(criterion = 'entropy',  random_state=42)\n",
    "CT_smote.fit(pca_X_train_s, pca_y_train_s)\n",
    "ct_sm_tr_acc = CT_smote.score(pca_X_train_s, pca_y_train_s)\n",
    "ct_sm_te_acc = CT_smote.score(X_test_pca, y_test_pca)\n",
    "\n",
    "print(f\"Smote train acc: {ct_sm_tr_acc}\")\n",
    "print(f\"Smote test acc: {ct_sm_te_acc}\")"
   ]
  },
  {
   "cell_type": "markdown",
   "id": "47432b69",
   "metadata": {},
   "source": [
    "entropy"
   ]
  },
  {
   "cell_type": "code",
   "execution_count": 67,
   "id": "aab4989b",
   "metadata": {},
   "outputs": [
    {
     "name": "stdout",
     "output_type": "stream",
     "text": [
      "Smote train acc: 1.0\n",
      "Smote test acc: 0.9306654282076436\n"
     ]
    }
   ],
   "source": [
    "CT_smote = DecisionTreeClassifier(criterion = 'entropy',  random_state=42)\n",
    "CT_smote.fit(X_train_s, y_train_s)\n",
    "ct_sm_tr_acc = CT_smote.score(X_train_s, y_train_s)\n",
    "ct_sm_te_acc = CT_smote.score(X_test, y_test)\n",
    "\n",
    "print(f\"Smote train acc: {ct_sm_tr_acc}\")\n",
    "print(f\"Smote test acc: {ct_sm_te_acc}\")"
   ]
  },
  {
   "cell_type": "markdown",
   "id": "f3e7837b",
   "metadata": {},
   "source": [
    "gini"
   ]
  },
  {
   "cell_type": "code",
   "execution_count": 68,
   "id": "0310c515",
   "metadata": {},
   "outputs": [
    {
     "name": "stdout",
     "output_type": "stream",
     "text": [
      "Smote train acc: 1.0\n",
      "Smote test acc: 0.9306654282076436\n"
     ]
    }
   ],
   "source": [
    "CT_smote_g = DecisionTreeClassifier(criterion = 'gini', max_depth= 40, random_state=42)\n",
    "CT_smote_g.fit(X_train_s, y_train_s)\n",
    "ct_sm_tr_acc_g = CT_smote.score(X_train_s, y_train_s)\n",
    "ct_sm_te_acc_g = CT_smote.score(X_test, y_test)\n",
    "\n",
    "print(f\"Smote train acc: {ct_sm_tr_acc_g}\")\n",
    "print(f\"Smote test acc: {ct_sm_te_acc_g}\")"
   ]
  },
  {
   "cell_type": "code",
   "execution_count": 69,
   "id": "e4f6f88f",
   "metadata": {},
   "outputs": [
    {
     "name": "stdout",
     "output_type": "stream",
     "text": [
      "Smote train acc: 0.997220248280631\n",
      "Smote test acc: 0.925144544866309\n"
     ]
    }
   ],
   "source": [
    "CT_smote_trim = DecisionTreeClassifier(criterion = 'gini', max_depth= 30, random_state=42)\n",
    "CT_smote_trim.fit(X_train_s, y_train_s)\n",
    "ct_sm_tr_acc = CT_smote_trim.score(X_train_s, y_train_s)\n",
    "ct_sm_te_acc = CT_smote_trim.score(X_test, y_test)\n",
    "\n",
    "print(f\"Smote train acc: {ct_sm_tr_acc}\")\n",
    "print(f\"Smote test acc: {ct_sm_te_acc}\")"
   ]
  },
  {
   "cell_type": "code",
   "execution_count": 70,
   "id": "a8d97e15",
   "metadata": {},
   "outputs": [
    {
     "name": "stdout",
     "output_type": "stream",
     "text": [
      "Smote train acc: 0.9638609328614232\n",
      "Smote test acc: 0.8928332881087061\n"
     ]
    }
   ],
   "source": [
    "CT_smote_trim = DecisionTreeClassifier(criterion = 'gini', max_depth= 20, random_state=42)\n",
    "CT_smote_trim.fit(X_train_s, y_train_s)\n",
    "ct_sm_tr_acc = CT_smote_trim.score(X_train_s, y_train_s)\n",
    "ct_sm_te_acc = CT_smote_trim.score(X_test, y_test)\n",
    "\n",
    "print(f\"Smote train acc: {ct_sm_tr_acc}\")\n",
    "print(f\"Smote test acc: {ct_sm_te_acc}\")"
   ]
  },
  {
   "cell_type": "code",
   "execution_count": 71,
   "id": "baa46739",
   "metadata": {},
   "outputs": [
    {
     "name": "stdout",
     "output_type": "stream",
     "text": [
      "Smote train acc: 0.8072593284994924\n",
      "Smote test acc: 0.6880126907261683\n"
     ]
    }
   ],
   "source": [
    "CT_smote_trim = DecisionTreeClassifier(criterion = 'gini', max_depth= 10, random_state=42)\n",
    "CT_smote_trim.fit(X_train_s, y_train_s)\n",
    "ct_sm_tr_acc = CT_smote_trim.score(X_train_s, y_train_s)\n",
    "ct_sm_te_acc = CT_smote_trim.score(X_test, y_test)\n",
    "\n",
    "print(f\"Smote train acc: {ct_sm_tr_acc}\")\n",
    "print(f\"Smote test acc: {ct_sm_te_acc}\")"
   ]
  },
  {
   "cell_type": "code",
   "execution_count": 72,
   "id": "3b43db7c",
   "metadata": {},
   "outputs": [
    {
     "name": "stdout",
     "output_type": "stream",
     "text": [
      "Smote train acc: 1.0\n",
      "Smote test acc: 0.9266108664342817\n"
     ]
    }
   ],
   "source": [
    "CT_smote_trim = DecisionTreeClassifier(criterion = 'gini', random_state=42)\n",
    "CT_smote_trim.fit(X_train_s, y_train_s)\n",
    "ct_sm_tr_acc = CT_smote_trim.score(X_train_s, y_train_s)\n",
    "ct_sm_te_acc = CT_smote_trim.score(X_test, y_test)\n",
    "\n",
    "print(f\"Smote train acc: {ct_sm_tr_acc}\")\n",
    "print(f\"Smote test acc: {ct_sm_te_acc}\")"
   ]
  },
  {
   "cell_type": "code",
   "execution_count": 73,
   "id": "a5da8b6c",
   "metadata": {},
   "outputs": [
    {
     "name": "stderr",
     "output_type": "stream",
     "text": [
      "c:\\Users\\jamie\\anaconda3\\envs\\datsci\\Lib\\site-packages\\sklearn\\model_selection\\_validation.py:516: FitFailedWarning: \n",
      "4 fits failed out of a total of 12.\n",
      "The score on these train-test partitions for these parameters will be set to nan.\n",
      "If these failures are not expected, you can try to debug them by setting error_score='raise'.\n",
      "\n",
      "Below are more details about the failures:\n",
      "--------------------------------------------------------------------------------\n",
      "2 fits failed with the following error:\n",
      "Traceback (most recent call last):\n",
      "  File \"c:\\Users\\jamie\\anaconda3\\envs\\datsci\\Lib\\site-packages\\sklearn\\model_selection\\_validation.py\", line 859, in _fit_and_score\n",
      "    estimator.fit(X_train, y_train, **fit_params)\n",
      "  File \"c:\\Users\\jamie\\anaconda3\\envs\\datsci\\Lib\\site-packages\\sklearn\\base.py\", line 1365, in wrapper\n",
      "    return fit_method(estimator, *args, **kwargs)\n",
      "           ^^^^^^^^^^^^^^^^^^^^^^^^^^^^^^^^^^^^^^\n",
      "  File \"c:\\Users\\jamie\\anaconda3\\envs\\datsci\\Lib\\site-packages\\sklearn\\tree\\_classes.py\", line 1024, in fit\n",
      "    super()._fit(\n",
      "  File \"c:\\Users\\jamie\\anaconda3\\envs\\datsci\\Lib\\site-packages\\sklearn\\tree\\_classes.py\", line 252, in _fit\n",
      "    X, y = validate_data(\n",
      "           ^^^^^^^^^^^^^^\n",
      "  File \"c:\\Users\\jamie\\anaconda3\\envs\\datsci\\Lib\\site-packages\\sklearn\\utils\\validation.py\", line 2966, in validate_data\n",
      "    X = check_array(X, input_name=\"X\", **check_X_params)\n",
      "        ^^^^^^^^^^^^^^^^^^^^^^^^^^^^^^^^^^^^^^^^^^^^^^^^\n",
      "  File \"c:\\Users\\jamie\\anaconda3\\envs\\datsci\\Lib\\site-packages\\sklearn\\utils\\validation.py\", line 1053, in check_array\n",
      "    array = _asarray_with_order(array, order=order, dtype=dtype, xp=xp)\n",
      "            ^^^^^^^^^^^^^^^^^^^^^^^^^^^^^^^^^^^^^^^^^^^^^^^^^^^^^^^^^^^\n",
      "  File \"c:\\Users\\jamie\\anaconda3\\envs\\datsci\\Lib\\site-packages\\sklearn\\utils\\_array_api.py\", line 757, in _asarray_with_order\n",
      "    array = numpy.asarray(array, order=order, dtype=dtype)\n",
      "            ^^^^^^^^^^^^^^^^^^^^^^^^^^^^^^^^^^^^^^^^^^^^^^\n",
      "  File \"c:\\Users\\jamie\\anaconda3\\envs\\datsci\\Lib\\site-packages\\pandas\\core\\generic.py\", line 2165, in __array__\n",
      "    values = self._values\n",
      "             ^^^^^^^^^^^^\n",
      "  File \"c:\\Users\\jamie\\anaconda3\\envs\\datsci\\Lib\\site-packages\\pandas\\core\\frame.py\", line 1127, in _values\n",
      "    return ensure_wrapped_if_datetimelike(self.values)\n",
      "                                          ^^^^^^^^^^^\n",
      "  File \"c:\\Users\\jamie\\anaconda3\\envs\\datsci\\Lib\\site-packages\\pandas\\core\\frame.py\", line 12671, in values\n",
      "    return self._mgr.as_array()\n",
      "           ^^^^^^^^^^^^^^^^^^^^\n",
      "  File \"c:\\Users\\jamie\\anaconda3\\envs\\datsci\\Lib\\site-packages\\pandas\\core\\internals\\managers.py\", line 1694, in as_array\n",
      "    arr = self._interleave(dtype=dtype, na_value=na_value)\n",
      "          ^^^^^^^^^^^^^^^^^^^^^^^^^^^^^^^^^^^^^^^^^^^^^^^^\n",
      "  File \"c:\\Users\\jamie\\anaconda3\\envs\\datsci\\Lib\\site-packages\\pandas\\core\\internals\\managers.py\", line 1727, in _interleave\n",
      "    result = np.empty(self.shape, dtype=dtype)\n",
      "             ^^^^^^^^^^^^^^^^^^^^^^^^^^^^^^^^^\n",
      "numpy._core._exceptions._ArrayMemoryError: Unable to allocate 359. MiB for an array with shape (54, 871540) and data type float64\n",
      "\n",
      "--------------------------------------------------------------------------------\n",
      "2 fits failed with the following error:\n",
      "Traceback (most recent call last):\n",
      "  File \"c:\\Users\\jamie\\anaconda3\\envs\\datsci\\Lib\\site-packages\\sklearn\\model_selection\\_validation.py\", line 859, in _fit_and_score\n",
      "    estimator.fit(X_train, y_train, **fit_params)\n",
      "  File \"c:\\Users\\jamie\\anaconda3\\envs\\datsci\\Lib\\site-packages\\sklearn\\base.py\", line 1365, in wrapper\n",
      "    return fit_method(estimator, *args, **kwargs)\n",
      "           ^^^^^^^^^^^^^^^^^^^^^^^^^^^^^^^^^^^^^^\n",
      "  File \"c:\\Users\\jamie\\anaconda3\\envs\\datsci\\Lib\\site-packages\\sklearn\\tree\\_classes.py\", line 1024, in fit\n",
      "    super()._fit(\n",
      "  File \"c:\\Users\\jamie\\anaconda3\\envs\\datsci\\Lib\\site-packages\\sklearn\\tree\\_classes.py\", line 252, in _fit\n",
      "    X, y = validate_data(\n",
      "           ^^^^^^^^^^^^^^\n",
      "  File \"c:\\Users\\jamie\\anaconda3\\envs\\datsci\\Lib\\site-packages\\sklearn\\utils\\validation.py\", line 2966, in validate_data\n",
      "    X = check_array(X, input_name=\"X\", **check_X_params)\n",
      "        ^^^^^^^^^^^^^^^^^^^^^^^^^^^^^^^^^^^^^^^^^^^^^^^^\n",
      "  File \"c:\\Users\\jamie\\anaconda3\\envs\\datsci\\Lib\\site-packages\\sklearn\\utils\\validation.py\", line 1053, in check_array\n",
      "    array = _asarray_with_order(array, order=order, dtype=dtype, xp=xp)\n",
      "            ^^^^^^^^^^^^^^^^^^^^^^^^^^^^^^^^^^^^^^^^^^^^^^^^^^^^^^^^^^^\n",
      "  File \"c:\\Users\\jamie\\anaconda3\\envs\\datsci\\Lib\\site-packages\\sklearn\\utils\\_array_api.py\", line 757, in _asarray_with_order\n",
      "    array = numpy.asarray(array, order=order, dtype=dtype)\n",
      "            ^^^^^^^^^^^^^^^^^^^^^^^^^^^^^^^^^^^^^^^^^^^^^^\n",
      "  File \"c:\\Users\\jamie\\anaconda3\\envs\\datsci\\Lib\\site-packages\\pandas\\core\\generic.py\", line 2165, in __array__\n",
      "    values = self._values\n",
      "             ^^^^^^^^^^^^\n",
      "  File \"c:\\Users\\jamie\\anaconda3\\envs\\datsci\\Lib\\site-packages\\pandas\\core\\frame.py\", line 1127, in _values\n",
      "    return ensure_wrapped_if_datetimelike(self.values)\n",
      "                                          ^^^^^^^^^^^\n",
      "  File \"c:\\Users\\jamie\\anaconda3\\envs\\datsci\\Lib\\site-packages\\pandas\\core\\frame.py\", line 12671, in values\n",
      "    return self._mgr.as_array()\n",
      "           ^^^^^^^^^^^^^^^^^^^^\n",
      "  File \"c:\\Users\\jamie\\anaconda3\\envs\\datsci\\Lib\\site-packages\\pandas\\core\\internals\\managers.py\", line 1694, in as_array\n",
      "    arr = self._interleave(dtype=dtype, na_value=na_value)\n",
      "          ^^^^^^^^^^^^^^^^^^^^^^^^^^^^^^^^^^^^^^^^^^^^^^^^\n",
      "  File \"c:\\Users\\jamie\\anaconda3\\envs\\datsci\\Lib\\site-packages\\pandas\\core\\internals\\managers.py\", line 1727, in _interleave\n",
      "    result = np.empty(self.shape, dtype=dtype)\n",
      "             ^^^^^^^^^^^^^^^^^^^^^^^^^^^^^^^^^\n",
      "numpy._core._exceptions._ArrayMemoryError: Unable to allocate 359. MiB for an array with shape (54, 871541) and data type float64\n",
      "\n",
      "  warnings.warn(some_fits_failed_message, FitFailedWarning)\n",
      "c:\\Users\\jamie\\anaconda3\\envs\\datsci\\Lib\\site-packages\\sklearn\\model_selection\\_search.py:1135: UserWarning: One or more of the test scores are non-finite: [       nan        nan        nan 0.95065137]\n",
      "  warnings.warn(\n"
     ]
    },
    {
     "name": "stdout",
     "output_type": "stream",
     "text": [
      "{'max_depth': 50} 0.9506513736622283\n"
     ]
    }
   ],
   "source": [
    "param_grid = {\n",
    "    \"max_depth\": [20, 30, 40, 50],\n",
    "}\n",
    "clf = DecisionTreeClassifier(random_state=42)\n",
    "grid = GridSearchCV(clf, param_grid, cv=3, scoring=\"accuracy\", n_jobs=-1)\n",
    "grid.fit(X_train_s, y_train_s)\n",
    "\n",
    "print(grid.best_params_, grid.best_score_)"
   ]
  },
  {
   "cell_type": "code",
   "execution_count": 74,
   "id": "69a488ef",
   "metadata": {},
   "outputs": [
    {
     "name": "stderr",
     "output_type": "stream",
     "text": [
      "c:\\Users\\jamie\\anaconda3\\envs\\datsci\\Lib\\site-packages\\sklearn\\model_selection\\_validation.py:516: FitFailedWarning: \n",
      "3 fits failed out of a total of 9.\n",
      "The score on these train-test partitions for these parameters will be set to nan.\n",
      "If these failures are not expected, you can try to debug them by setting error_score='raise'.\n",
      "\n",
      "Below are more details about the failures:\n",
      "--------------------------------------------------------------------------------\n",
      "3 fits failed with the following error:\n",
      "Traceback (most recent call last):\n",
      "  File \"c:\\Users\\jamie\\anaconda3\\envs\\datsci\\Lib\\site-packages\\sklearn\\model_selection\\_validation.py\", line 859, in _fit_and_score\n",
      "    estimator.fit(X_train, y_train, **fit_params)\n",
      "  File \"c:\\Users\\jamie\\anaconda3\\envs\\datsci\\Lib\\site-packages\\sklearn\\base.py\", line 1358, in wrapper\n",
      "    estimator._validate_params()\n",
      "  File \"c:\\Users\\jamie\\anaconda3\\envs\\datsci\\Lib\\site-packages\\sklearn\\base.py\", line 471, in _validate_params\n",
      "    validate_parameter_constraints(\n",
      "  File \"c:\\Users\\jamie\\anaconda3\\envs\\datsci\\Lib\\site-packages\\sklearn\\utils\\_param_validation.py\", line 98, in validate_parameter_constraints\n",
      "    raise InvalidParameterError(\n",
      "sklearn.utils._param_validation.InvalidParameterError: The 'max_features' parameter of DecisionTreeClassifier must be an int in the range [1, inf), a float in the range (0.0, 1.0], a str among {'log2', 'sqrt'} or None. Got 'auto' instead.\n",
      "\n",
      "  warnings.warn(some_fits_failed_message, FitFailedWarning)\n",
      "c:\\Users\\jamie\\anaconda3\\envs\\datsci\\Lib\\site-packages\\sklearn\\model_selection\\_search.py:1135: UserWarning: One or more of the test scores are non-finite: [       nan 0.91396921 0.90575693]\n",
      "  warnings.warn(\n"
     ]
    },
    {
     "name": "stdout",
     "output_type": "stream",
     "text": [
      "{'max_features': 'sqrt'} 0.9139692084040227\n"
     ]
    }
   ],
   "source": [
    "param_grid = {\n",
    "    \"max_features\": [\"auto\", \"sqrt\", \"log2\"]\n",
    "}\n",
    "clf = DecisionTreeClassifier( random_state=42)\n",
    "grid = GridSearchCV(clf, param_grid, cv=3, scoring=\"accuracy\", n_jobs=-1)\n",
    "grid.fit(X_train_s, y_train_s)\n",
    "\n",
    "print(grid.best_params_, grid.best_score_)"
   ]
  },
  {
   "cell_type": "code",
   "execution_count": null,
   "id": "2e5b4906",
   "metadata": {},
   "outputs": [],
   "source": []
  },
  {
   "cell_type": "markdown",
   "id": "1c72b322",
   "metadata": {},
   "source": [
    "## Base"
   ]
  },
  {
   "cell_type": "code",
   "execution_count": 75,
   "id": "7fe7f269",
   "metadata": {},
   "outputs": [
    {
     "name": "stdout",
     "output_type": "stream",
     "text": [
      "Smote train acc: 0.9919322089658115\n",
      "Smote test acc: 0.9306654282076436\n"
     ]
    }
   ],
   "source": [
    "CT_base = DecisionTreeClassifier( criterion= 'entropy',  random_state=42 )\n",
    "CT_base.fit(X_train, y_train)\n",
    "\n",
    "ct_b_tr_acc = CT_smote.score(X_train, y_train)\n",
    "ct_b_te_acc = CT_smote.score(X_test, y_test)\n",
    "\n",
    "print(f\"Smote train acc: {ct_b_tr_acc}\")\n",
    "print(f\"Smote test acc: {ct_b_te_acc}\")"
   ]
  },
  {
   "cell_type": "code",
   "execution_count": 76,
   "id": "274ee9ec",
   "metadata": {},
   "outputs": [
    {
     "name": "stdout",
     "output_type": "stream",
     "text": [
      "Smote train acc: 0.9919322089658115\n",
      "Smote test acc: 0.9306654282076436\n"
     ]
    }
   ],
   "source": [
    "CT_base_g = DecisionTreeClassifier( criterion= 'gini', random_state=42 )\n",
    "CT_base_g.fit(X_train, y_train)\n",
    "\n",
    "ct_b_tr_acc_g = CT_smote.score(X_train, y_train)\n",
    "ct_b_te_acc_g = CT_smote.score(X_test, y_test)\n",
    "\n",
    "print(f\"Smote train acc: {ct_b_tr_acc_g}\")\n",
    "print(f\"Smote test acc: {ct_b_te_acc_g}\")"
   ]
  },
  {
   "cell_type": "code",
   "execution_count": null,
   "id": "d382ec80",
   "metadata": {},
   "outputs": [],
   "source": []
  },
  {
   "cell_type": "markdown",
   "id": "6bd5fe5c",
   "metadata": {},
   "source": [
    "### KNN dataframe"
   ]
  },
  {
   "cell_type": "code",
   "execution_count": 77,
   "id": "68a1ab8f",
   "metadata": {},
   "outputs": [],
   "source": [
    "outlier_features = [\n",
    "    \"Horizontal_Distance_To_Hydrology\",\n",
    "    \"Hillshade_Noon\",\n",
    "    \"Vertical_Distance_To_Hydrology\",\n",
    "]\n",
    "\n",
    "def clamp_series(s, lower_q=0.01, upper_q=0.99):\n",
    "    lower, upper = s.quantile([lower_q, upper_q])\n",
    "    return s.clip(lower, upper)\n",
    "\n",
    "# apply clamping\n",
    "for col in outlier_features:\n",
    "    df[col] = clamp_series(df[col], 0.01, 0.99)\n"
   ]
  },
  {
   "cell_type": "code",
   "execution_count": 78,
   "id": "0d21fa58",
   "metadata": {},
   "outputs": [],
   "source": [
    "\n",
    "\n",
    "continuous_features = [\n",
    "    \"Elevation\",\n",
    "    \"Slope\",\n",
    "    \"Horizontal_Distance_To_Hydrology\",\n",
    "    \"Vertical_Distance_To_Hydrology\",\n",
    "    \"Horizontal_Distance_To_Roadways\",\n",
    "    \"Hillshade_9am\",\n",
    "    \"Hillshade_Noon\",\n",
    "    \"Hillshade_3pm\",\n",
    "    \"Horizontal_Distance_To_Fire_Points\",\n",
    "]\n",
    "\n",
    "knn_df = df.copy()\n",
    "\n",
    "\n",
    "\n",
    "\n",
    "# --- Robust scaling for distance-based kNN (handles outliers better than z-score)\n",
    "scaler = MinMaxScaler()\n",
    "knn_df[continuous_features] = scaler.fit_transform(knn_df[continuous_features])\n",
    "\n",
    "# --- Cyclical encoding for Aspect (DO NOT scale these)\n",
    "knn_df[\"Aspect_rad\"] = np.deg2rad(knn_df[\"Aspect\"])\n",
    "knn_df[\"Aspect_sin\"] = np.sin(knn_df[\"Aspect_rad\"])\n",
    "knn_df[\"Aspect_cos\"] = np.cos(knn_df[\"Aspect_rad\"])\n",
    "knn_df = knn_df.drop(columns=[\"Aspect\", \"Aspect_rad\"])\n",
    "\n",
    "# Final list for plotting\n",
    "plot_features = continuous_features + [\"Aspect_sin\", \"Aspect_cos\"]\n",
    "\n",
    "# # --- Plot\n",
    "# n = len(plot_features)\n",
    "# fig, axes = plt.subplots(n, 1, figsize=(6, 2.2*n), constrained_layout=True)\n",
    "\n",
    "# for i, col in enumerate(plot_features):\n",
    "#     sns.histplot(knn_df[col], bins=50, kde=True, ax=axes[i])\n",
    "#     axes[i].set_title(f\"Distribution of {col}\")\n",
    "#     axes[i].set_xlabel(\"\")\n",
    "#     axes[i].set_ylabel(\"Count\")\n",
    "\n",
    "# plt.show()"
   ]
  },
  {
   "cell_type": "code",
   "execution_count": null,
   "id": "7c7e8cb5",
   "metadata": {},
   "outputs": [],
   "source": [
    "\n"
   ]
  },
  {
   "cell_type": "code",
   "execution_count": 79,
   "id": "eebc2460",
   "metadata": {},
   "outputs": [],
   "source": [
    "# knn_df.isna().any()"
   ]
  },
  {
   "cell_type": "markdown",
   "id": "6aba437b",
   "metadata": {},
   "source": [
    "## Tomek links"
   ]
  },
  {
   "cell_type": "code",
   "execution_count": 80,
   "id": "62d661a7",
   "metadata": {},
   "outputs": [],
   "source": [
    "y = knn_df[\"Cover_Type\"]\n",
    "\n",
    "# Features (everything else after preprocessing)\n",
    "X = knn_df.drop(columns=[\"Cover_Type\"])\n",
    "pca_X = pca.fit_transform(X)\n",
    "\n",
    "# Train/test split (stratify keeps class proportions)\n",
    "X_train, X_test, y_train, y_test = train_test_split(\n",
    "    X, y, test_size=0.2, random_state=42, stratify=y\n",
    ")\n",
    "\n",
    "# Train/test split (stratify keeps class proportions)\n",
    "pca_X_train, pca_X_test, pca_y_train, pca_y_test = train_test_split(\n",
    "    pca_X, y, test_size=0.2, random_state=42, stratify=y\n",
    ")"
   ]
  },
  {
   "cell_type": "code",
   "execution_count": 81,
   "id": "d4f8d70a",
   "metadata": {},
   "outputs": [],
   "source": [
    "# obj_cols = X_train.select_dtypes(include=['object', 'string', 'category']).columns\n",
    "# print(\"Non-numeric columns in X_train:\", list(obj_cols))\n",
    "# print({c: X_train[c].unique()[:5] for c in obj_cols}) "
   ]
  },
  {
   "cell_type": "code",
   "execution_count": 82,
   "id": "29d34bb1",
   "metadata": {},
   "outputs": [
    {
     "name": "stdout",
     "output_type": "stream",
     "text": [
      "Before Tomek Links: Cover_Type\n",
      "2    226515\n",
      "1    169395\n",
      "3     28588\n",
      "7     16399\n",
      "6     13884\n",
      "5      7593\n",
      "4      2197\n",
      "Name: count, dtype: int64\n",
      "After Tomek Links: Cover_Type\n",
      "2    219110\n",
      "1    162740\n",
      "3     27325\n",
      "7     15835\n",
      "6     12777\n",
      "5      6819\n",
      "4      2197\n",
      "Name: count, dtype: int64\n"
     ]
    }
   ],
   "source": [
    "tl = TomekLinks(sampling_strategy=\"auto\")  # \"auto\" = remove majority samples\n",
    "X_train_tl, y_train_tl = tl.fit_resample(X_train, y_train)\n",
    "X_p_tr_t, y_p_tr_t = tl.fit_resample(pca_X_train, pca_y_train)\n",
    "print(\"Before Tomek Links:\", y_train.value_counts())\n",
    "print(\"After Tomek Links:\", pd.Series(y_train_tl).value_counts())"
   ]
  },
  {
   "cell_type": "markdown",
   "id": "21eb7be9",
   "metadata": {},
   "source": [
    "## Modeling"
   ]
  },
  {
   "cell_type": "code",
   "execution_count": null,
   "id": "584123ac",
   "metadata": {},
   "outputs": [],
   "source": []
  },
  {
   "cell_type": "code",
   "execution_count": 83,
   "id": "af5834b1",
   "metadata": {},
   "outputs": [
    {
     "name": "stdout",
     "output_type": "stream",
     "text": [
      "Train Accuracy: 0.9339\n",
      "Test Accuracy: 0.8963\n"
     ]
    }
   ],
   "source": [
    "# Initialize with some k (say 5) and Euclidean distance\n",
    "knn = KNeighborsClassifier(n_neighbors=5, metric=\"euclidean\")\n",
    "\n",
    "# Fit\n",
    "knn.fit(X_train, y_train)\n",
    "\n",
    "# Accuracy\n",
    "train_acc = knn.score(X_train, y_train)\n",
    "test_acc = knn.score(X_test, y_test)\n",
    "\n",
    "print(f\"Train Accuracy: {train_acc:.4f}\")\n",
    "print(f\"Test Accuracy: {test_acc:.4f}\")"
   ]
  },
  {
   "cell_type": "code",
   "execution_count": 84,
   "id": "9d8becbb",
   "metadata": {},
   "outputs": [
    {
     "name": "stdout",
     "output_type": "stream",
     "text": [
      "Train Accuracy: 0.9465\n",
      "Test Accuracy: 0.8950\n"
     ]
    }
   ],
   "source": [
    "\n",
    "\n",
    "# Fit\n",
    "knn.fit(X_train_tl, y_train_tl)\n",
    "\n",
    "# Accuracy\n",
    "train_acc = knn.score(X_train_tl, y_train_tl)\n",
    "test_acc = knn.score(X_test, y_test)\n",
    "\n",
    "print(f\"Train Accuracy: {train_acc:.4f}\")\n",
    "print(f\"Test Accuracy: {test_acc:.4f}\")"
   ]
  },
  {
   "cell_type": "code",
   "execution_count": 85,
   "id": "54b7f7ad",
   "metadata": {},
   "outputs": [
    {
     "name": "stdout",
     "output_type": "stream",
     "text": [
      "Train Accuracy: 0.9225\n",
      "Test Accuracy: 0.8492\n"
     ]
    }
   ],
   "source": [
    "\n",
    "# Fit\n",
    "knn.fit(X_p_tr_t, y_p_tr_t)\n",
    "\n",
    "# Accuracy\n",
    "train_acc = knn.score(X_p_tr_t, y_p_tr_t)\n",
    "test_acc = knn.score(pca_X_test, pca_y_test)\n",
    "\n",
    "print(f\"Train Accuracy: {train_acc:.4f}\")\n",
    "print(f\"Test Accuracy: {test_acc:.4f}\")"
   ]
  },
  {
   "cell_type": "code",
   "execution_count": null,
   "id": "895d340f",
   "metadata": {},
   "outputs": [],
   "source": [
    "\n",
    "\n",
    "smt = SMOTETomek(random_state=42)\n",
    "X_train_bal, y_train_bal = smt.fit_resample(X_train, y_train)\n",
    "pca_X_smote, pca_y_smote = smt.fit_resample(pca_X_train, pca_y_train)\n",
    "\n",
    "\n"
   ]
  },
  {
   "cell_type": "code",
   "execution_count": null,
   "id": "099b0d4b",
   "metadata": {},
   "outputs": [
    {
     "name": "stdout",
     "output_type": "stream",
     "text": [
      "Before Smote: Cover_Type\n",
      "2    226515\n",
      "1    169395\n",
      "3     28588\n",
      "7     16399\n",
      "6     13884\n",
      "5      7593\n",
      "4      2197\n",
      "Name: count, dtype: int64\n",
      "After Smote: Cover_Type\n",
      "4    226515\n",
      "6    226470\n",
      "5    226460\n",
      "3    226452\n",
      "7    226448\n",
      "1    222051\n",
      "2    221995\n",
      "Name: count, dtype: int64\n"
     ]
    }
   ],
   "source": [
    "print(\"Before Smote:\", y_train.value_counts())\n",
    "print(\"After Smote:\", pd.Series(y_train_bal).value_counts())"
   ]
  },
  {
   "cell_type": "code",
   "execution_count": null,
   "id": "45881265",
   "metadata": {},
   "outputs": [
    {
     "name": "stdout",
     "output_type": "stream",
     "text": [
      "Train Accuracy: 0.9353\n",
      "Test Accuracy: 0.8843\n"
     ]
    }
   ],
   "source": [
    "knn_bal = KNeighborsClassifier(n_neighbors=5, metric=\"euclidean\")\n",
    "knn_bal.fit(X_train_bal, y_train_bal)\n",
    "train_acc = knn_bal.score(X_train_bal, X_train_bal)\n",
    "test_acc = knn_bal.score(X_test, y_test)\n",
    "\n",
    "print(f\"Train Accuracy: {train_acc:.4f}\")\n",
    "print(f\"Test Accuracy: {test_acc:.4f}\")"
   ]
  },
  {
   "cell_type": "code",
   "execution_count": null,
   "id": "cf76849c",
   "metadata": {},
   "outputs": [
    {
     "name": "stdout",
     "output_type": "stream",
     "text": [
      "Train Accuracy: 0.9741\n",
      "Test Accuracy: 0.8322\n"
     ]
    }
   ],
   "source": [
    "knn_bal = KNeighborsClassifier(n_neighbors=5, metric=\"euclidean\")\n",
    "knn_bal.fit(pca_X_smote, pca_y_smote)\n",
    "train_acc = knn_bal.score(pca_X_smote, pca_y_smote)\n",
    "test_acc = knn_bal.score(pca_X_test, pca_y_test)\n",
    "\n",
    "print(f\"Train Accuracy: {train_acc:.4f}\")\n",
    "print(f\"Test Accuracy: {test_acc:.4f}\")"
   ]
  },
  {
   "cell_type": "code",
   "execution_count": null,
   "id": "7854bc13",
   "metadata": {},
   "outputs": [],
   "source": [
    "knn_bal = KNeighborsClassifier(n_neighbors=10, metric=\"euclidean\")\n",
    "knn_bal.fit(X_train_bal, y_train_bal)\n",
    "train_acc = knn_bal.score(X_train_bal, X_train_bal)\n",
    "test_acc = knn_bal.score(X_test, y_test)\n",
    "\n",
    "print(f\"Train Accuracy: {train_acc:.4f}\")\n",
    "print(f\"Test Accuracy: {test_acc:.4f}\")"
   ]
  },
  {
   "cell_type": "code",
   "execution_count": null,
   "id": "373ac0dc",
   "metadata": {},
   "outputs": [],
   "source": [
    "knn_bal = KNeighborsClassifier(n_neighbors=5, metric=\"euclidean\", weights='distance')\n",
    "knn_bal.fit(X_train_bal, y_train_bal)\n",
    "train_acc = knn_bal.score(X_train_bal, X_train_bal)\n",
    "test_acc = knn_bal.score(X_test, y_test)\n",
    "\n",
    "print(f\"Train Accuracy: {train_acc:.4f}\")\n",
    "print(f\"Test Accuracy: {test_acc:.4f}\")"
   ]
  },
  {
   "cell_type": "code",
   "execution_count": null,
   "id": "84c4d682",
   "metadata": {},
   "outputs": [],
   "source": [
    "knn_bal = KNeighborsClassifier(n_neighbors=5, metric=\"euclidean\", weights='uniform')\n",
    "knn_bal.fit(X_train_bal, y_train_bal)\n",
    "train_acc = knn_bal.score(X_train_bal, X_train_bal)\n",
    "test_acc = knn_bal.score(X_test, y_test)\n",
    "\n",
    "print(f\"Train Accuracy: {train_acc:.4f}\")\n",
    "print(f\"Test Accuracy: {test_acc:.4f}\")"
   ]
  },
  {
   "cell_type": "markdown",
   "id": "6fcf8397",
   "metadata": {},
   "source": [
    "## Feature Engineering"
   ]
  },
  {
   "cell_type": "code",
   "execution_count": null,
   "id": "b60689ca",
   "metadata": {},
   "outputs": [
    {
     "data": {
      "text/plain": [
       "Index(['Elevation', 'Aspect', 'Slope', 'Horizontal_Distance_To_Hydrology',\n",
       "       'Vertical_Distance_To_Hydrology', 'Horizontal_Distance_To_Roadways',\n",
       "       'Hillshade_9am', 'Hillshade_Noon', 'Hillshade_3pm',\n",
       "       'Horizontal_Distance_To_Fire_Points', 'Wilderness_Area1',\n",
       "       'Wilderness_Area2', 'Wilderness_Area3', 'Wilderness_Area4',\n",
       "       'Soil_Type1', 'Soil_Type2', 'Soil_Type3', 'Soil_Type4', 'Soil_Type5',\n",
       "       'Soil_Type6', 'Soil_Type7', 'Soil_Type8', 'Soil_Type9', 'Soil_Type10',\n",
       "       'Soil_Type11', 'Soil_Type12', 'Soil_Type13', 'Soil_Type14',\n",
       "       'Soil_Type15', 'Soil_Type16', 'Soil_Type17', 'Soil_Type18',\n",
       "       'Soil_Type19', 'Soil_Type20', 'Soil_Type21', 'Soil_Type22',\n",
       "       'Soil_Type23', 'Soil_Type24', 'Soil_Type25', 'Soil_Type26',\n",
       "       'Soil_Type27', 'Soil_Type28', 'Soil_Type29', 'Soil_Type30',\n",
       "       'Soil_Type31', 'Soil_Type32', 'Soil_Type33', 'Soil_Type34',\n",
       "       'Soil_Type35', 'Soil_Type36', 'Soil_Type37', 'Soil_Type38',\n",
       "       'Soil_Type39', 'Soil_Type40', 'Cover_Type'],\n",
       "      dtype='object')"
      ]
     },
     "execution_count": 34,
     "metadata": {},
     "output_type": "execute_result"
    }
   ],
   "source": [
    "df_eng = df.copy()\n",
    "\n",
    "df_eng.columns"
   ]
  },
  {
   "cell_type": "code",
   "execution_count": null,
   "id": "48a93677",
   "metadata": {},
   "outputs": [],
   "source": [
    "df_eng[\"ExS\"] = df[\"Elevation\"] * df[\"Slope\"]\n",
    "\n",
    "# Row-wise min/max/mean\n",
    "df_eng[\"Relative_hoz_dist_min\"] = df[[\n",
    "    \"Horizontal_Distance_To_Hydrology\",\n",
    "    \"Horizontal_Distance_To_Fire_Points\",\n",
    "    \"Horizontal_Distance_To_Roadways\"\n",
    "]].min(axis=1)\n",
    "\n",
    "df_eng[\"Relative_hoz_dist_max\"] = df[[\n",
    "    \"Horizontal_Distance_To_Hydrology\",\n",
    "    \"Horizontal_Distance_To_Fire_Points\",\n",
    "    \"Horizontal_Distance_To_Roadways\"\n",
    "]].max(axis=1)\n",
    "\n",
    "df_eng[\"Relative_hoz_dist_mean\"] = df[[\n",
    "    \"Horizontal_Distance_To_Hydrology\",\n",
    "    \"Horizontal_Distance_To_Fire_Points\",\n",
    "    \"Horizontal_Distance_To_Roadways\"\n",
    "]].mean(axis=1)\n",
    "\n",
    "df_eng[\"total_hillshade\"] = df[[\"Hillshade_9am\",\"Hillshade_Noon\",\"Hillshade_3pm\"]].sum(axis=1)\n",
    "df_eng[\"min_hillshade\"]   = df[[\"Hillshade_9am\",\"Hillshade_Noon\",\"Hillshade_3pm\"]].min(axis=1)\n",
    "df_eng[\"max_hillshade\"]   = df[[\"Hillshade_9am\",\"Hillshade_Noon\",\"Hillshade_3pm\"]].max(axis=1)\n",
    "\n",
    "df_eng[\"Relative_height_from_water\"] = df[\"Elevation\"] - df[\"Vertical_Distance_To_Hydrology\"]\n"
   ]
  },
  {
   "cell_type": "code",
   "execution_count": null,
   "id": "ee4c1d36",
   "metadata": {},
   "outputs": [
    {
     "name": "stdout",
     "output_type": "stream",
     "text": [
      "Relative_height_from_water            155254.905432\n",
      "Elevation                             155233.724734\n",
      "Wilderness_Area4                      114553.635041\n",
      "Soil_Type10                            27668.814832\n",
      "Soil_Type4                             12788.671533\n",
      "Soil_Type38                            12721.856165\n",
      "Soil_Type39                            11906.249563\n",
      "Soil_Type3                             11487.418311\n",
      "Wilderness_Area1                       10372.626419\n",
      "Horizontal_Distance_To_Roadways        10270.991317\n",
      "Soil_Type2                             10255.681732\n",
      "Soil_Type6                              8353.824003\n",
      "Slope                                   7759.230522\n",
      "Soil_Type40                             7341.278836\n",
      "Horizontal_Distance_To_Fire_Points      7258.656756\n",
      "Soil_Type1                              5127.898857\n",
      "Soil_Type22                             4567.193116\n",
      "Soil_Type12                             3950.415617\n",
      "Soil_Type29                             3915.930873\n",
      "Soil_Type17                             3733.271444\n",
      "Soil_Type23                             3519.496980\n",
      "total_hillshade                         3241.520414\n",
      "Hillshade_9am                           3232.210615\n",
      "Hillshade_Noon                          2917.812692\n",
      "max_hillshade                           2767.472686\n",
      "Soil_Type5                              2626.283292\n",
      "Relative_hoz_dist_min                   2462.661615\n",
      "Soil_Type14                             2438.667487\n",
      "Wilderness_Area2                        2232.504001\n",
      "Soil_Type35                             2190.423671\n",
      "Soil_Type30                             2156.384021\n",
      "min_hillshade                           1919.032367\n",
      "Soil_Type13                             1891.228049\n",
      "ExS                                     1726.000280\n",
      "Soil_Type37                             1377.341531\n",
      "Wilderness_Area3                        1230.726762\n",
      "Vertical_Distance_To_Hydrology          1205.329940\n",
      "Soil_Type11                             1163.956736\n",
      "Soil_Type32                             1124.547174\n",
      "Hillshade_3pm                           1041.341095\n",
      "Soil_Type33                              870.231127\n",
      "Soil_Type24                              689.320456\n",
      "Soil_Type31                              631.593708\n",
      "Aspect                                   446.464271\n",
      "Soil_Type18                              337.559236\n",
      "Soil_Type26                              277.164081\n",
      "Soil_Type19                              220.340755\n",
      "Soil_Type21                              214.836375\n",
      "Soil_Type20                              193.501972\n",
      "Soil_Type34                              180.270654\n",
      "dtype: float64\n"
     ]
    }
   ],
   "source": [
    "from sklearn.feature_selection import f_classif\n",
    "from sklearn.preprocessing import StandardScaler\n",
    "\n",
    "X = df_eng.drop(columns=[\"Cover_Type\"])\n",
    "y = df_eng[\"Cover_Type\"]\n",
    "\n",
    "# Scale only numeric for stability\n",
    "X_scaled = StandardScaler().fit_transform(X)\n",
    "\n",
    "f_vals, p_vals = f_classif(X_scaled, y)\n",
    "feature_scores = pd.Series(f_vals, index=X.columns).sort_values(ascending=False)\n",
    "print(feature_scores.head(50))\n"
   ]
  },
  {
   "cell_type": "code",
   "execution_count": null,
   "id": "e281dcb5",
   "metadata": {},
   "outputs": [
    {
     "name": "stdout",
     "output_type": "stream",
     "text": [
      "Relative_height_from_water            0.575940\n",
      "Elevation                             0.458074\n",
      "ExS                                   0.255471\n",
      "Wilderness_Area4                      0.146108\n",
      "Relative_hoz_dist_mean                0.138782\n",
      "Relative_hoz_dist_max                 0.126990\n",
      "Wilderness_Area1                      0.104051\n",
      "Horizontal_Distance_To_Roadways       0.088951\n",
      "Horizontal_Distance_To_Fire_Points    0.069865\n",
      "Soil_Type10                           0.065549\n",
      "dtype: float64\n"
     ]
    }
   ],
   "source": [
    "from sklearn.feature_selection import mutual_info_classif\n",
    "\n",
    "mi = mutual_info_classif(X, y, discrete_features='auto', random_state=42)\n",
    "mi_scores = pd.Series(mi, index=X.columns).sort_values(ascending=False)\n",
    "print(mi_scores.head(10))\n"
   ]
  },
  {
   "cell_type": "code",
   "execution_count": null,
   "id": "4f0fd90c",
   "metadata": {},
   "outputs": [
    {
     "data": {
      "text/html": [
       "<div>\n",
       "<style scoped>\n",
       "    .dataframe tbody tr th:only-of-type {\n",
       "        vertical-align: middle;\n",
       "    }\n",
       "\n",
       "    .dataframe tbody tr th {\n",
       "        vertical-align: top;\n",
       "    }\n",
       "\n",
       "    .dataframe thead th {\n",
       "        text-align: right;\n",
       "    }\n",
       "</style>\n",
       "<table border=\"1\" class=\"dataframe\">\n",
       "  <thead>\n",
       "    <tr style=\"text-align: right;\">\n",
       "      <th></th>\n",
       "      <th>ExS</th>\n",
       "      <th>Relative_hoz_dist_min</th>\n",
       "      <th>total_hillshade</th>\n",
       "    </tr>\n",
       "  </thead>\n",
       "  <tbody>\n",
       "    <tr>\n",
       "      <th>total_hillshade</th>\n",
       "      <td>-0.558343</td>\n",
       "      <td>0.047478</td>\n",
       "      <td>1.000000</td>\n",
       "    </tr>\n",
       "    <tr>\n",
       "      <th>Hillshade_Noon</th>\n",
       "      <td>-0.488036</td>\n",
       "      <td>0.044084</td>\n",
       "      <td>0.985852</td>\n",
       "    </tr>\n",
       "    <tr>\n",
       "      <th>min_hillshade</th>\n",
       "      <td>-0.421072</td>\n",
       "      <td>0.058303</td>\n",
       "      <td>0.765101</td>\n",
       "    </tr>\n",
       "    <tr>\n",
       "      <th>Hillshade_9am</th>\n",
       "      <td>-0.295756</td>\n",
       "      <td>-0.022248</td>\n",
       "      <td>-0.066720</td>\n",
       "    </tr>\n",
       "    <tr>\n",
       "      <th>Wilderness_Area1</th>\n",
       "      <td>-0.199908</td>\n",
       "      <td>-0.077537</td>\n",
       "      <td>0.035640</td>\n",
       "    </tr>\n",
       "    <tr>\n",
       "      <th>...</th>\n",
       "      <td>...</td>\n",
       "      <td>...</td>\n",
       "      <td>...</td>\n",
       "    </tr>\n",
       "    <tr>\n",
       "      <th>Soil_Type13</th>\n",
       "      <td>0.189326</td>\n",
       "      <td>-0.001703</td>\n",
       "      <td>0.029405</td>\n",
       "    </tr>\n",
       "    <tr>\n",
       "      <th>Soil_Type33</th>\n",
       "      <td>0.241960</td>\n",
       "      <td>0.100585</td>\n",
       "      <td>-0.100508</td>\n",
       "    </tr>\n",
       "    <tr>\n",
       "      <th>Vertical_Distance_To_Hydrology</th>\n",
       "      <td>0.301319</td>\n",
       "      <td>0.596317</td>\n",
       "      <td>-0.122367</td>\n",
       "    </tr>\n",
       "    <tr>\n",
       "      <th>Slope</th>\n",
       "      <td>0.968604</td>\n",
       "      <td>-0.010930</td>\n",
       "      <td>-0.596938</td>\n",
       "    </tr>\n",
       "    <tr>\n",
       "      <th>ExS</th>\n",
       "      <td>1.000000</td>\n",
       "      <td>0.056392</td>\n",
       "      <td>-0.558343</td>\n",
       "    </tr>\n",
       "  </tbody>\n",
       "</table>\n",
       "<p>63 rows × 3 columns</p>\n",
       "</div>"
      ],
      "text/plain": [
       "                                     ExS  Relative_hoz_dist_min  \\\n",
       "total_hillshade                -0.558343               0.047478   \n",
       "Hillshade_Noon                 -0.488036               0.044084   \n",
       "min_hillshade                  -0.421072               0.058303   \n",
       "Hillshade_9am                  -0.295756              -0.022248   \n",
       "Wilderness_Area1               -0.199908              -0.077537   \n",
       "...                                  ...                    ...   \n",
       "Soil_Type13                     0.189326              -0.001703   \n",
       "Soil_Type33                     0.241960               0.100585   \n",
       "Vertical_Distance_To_Hydrology  0.301319               0.596317   \n",
       "Slope                           0.968604              -0.010930   \n",
       "ExS                             1.000000               0.056392   \n",
       "\n",
       "                                total_hillshade  \n",
       "total_hillshade                        1.000000  \n",
       "Hillshade_Noon                         0.985852  \n",
       "min_hillshade                          0.765101  \n",
       "Hillshade_9am                         -0.066720  \n",
       "Wilderness_Area1                       0.035640  \n",
       "...                                         ...  \n",
       "Soil_Type13                            0.029405  \n",
       "Soil_Type33                           -0.100508  \n",
       "Vertical_Distance_To_Hydrology        -0.122367  \n",
       "Slope                                 -0.596938  \n",
       "ExS                                   -0.558343  \n",
       "\n",
       "[63 rows x 3 columns]"
      ]
     },
     "execution_count": 23,
     "metadata": {},
     "output_type": "execute_result"
    }
   ],
   "source": [
    "df_eng.corr()[[\"ExS\",\"Relative_hoz_dist_min\",\"total_hillshade\"]].sort_values(by=\"ExS\")\n"
   ]
  },
  {
   "cell_type": "code",
   "execution_count": null,
   "id": "ee6700f9",
   "metadata": {},
   "outputs": [
    {
     "name": "stdout",
     "output_type": "stream",
     "text": [
      "Relative_height_from_water    0.294569\n",
      "Elevation                     0.238454\n",
      "Wilderness_Area4              0.174910\n",
      "Relative_hoz_dist_mean        0.083812\n",
      "Soil_Type22                   0.060051\n",
      "Soil_Type12                   0.019042\n",
      "Soil_Type38                   0.016721\n",
      "Soil_Type10                   0.014579\n",
      "Soil_Type23                   0.014210\n",
      "Wilderness_Area2              0.013654\n",
      "dtype: float64\n"
     ]
    }
   ],
   "source": [
    "from sklearn.ensemble import RandomForestClassifier\n",
    "\n",
    "rf = RandomForestClassifier(n_estimators=10, max_depth=3, random_state=42)\n",
    "rf.fit(X, y)\n",
    "importances = pd.Series(rf.feature_importances_, index=X.columns).sort_values(ascending=False)\n",
    "print(importances.head(10))\n"
   ]
  },
  {
   "cell_type": "code",
   "execution_count": null,
   "id": "7d775543",
   "metadata": {},
   "outputs": [
    {
     "data": {
      "text/plain": [
       "Index(['Elevation', 'Aspect', 'Slope', 'Horizontal_Distance_To_Hydrology',\n",
       "       'Vertical_Distance_To_Hydrology', 'Horizontal_Distance_To_Roadways',\n",
       "       'Hillshade_9am', 'Hillshade_Noon', 'Hillshade_3pm',\n",
       "       'Horizontal_Distance_To_Fire_Points', 'Wilderness_Area1',\n",
       "       'Wilderness_Area2', 'Wilderness_Area3', 'Wilderness_Area4',\n",
       "       'Soil_Type1', 'Soil_Type2', 'Soil_Type3', 'Soil_Type4', 'Soil_Type5',\n",
       "       'Soil_Type6', 'Soil_Type7', 'Soil_Type8', 'Soil_Type9', 'Soil_Type10',\n",
       "       'Soil_Type11', 'Soil_Type12', 'Soil_Type13', 'Soil_Type14',\n",
       "       'Soil_Type15', 'Soil_Type16', 'Soil_Type17', 'Soil_Type18',\n",
       "       'Soil_Type19', 'Soil_Type20', 'Soil_Type21', 'Soil_Type22',\n",
       "       'Soil_Type23', 'Soil_Type24', 'Soil_Type25', 'Soil_Type26',\n",
       "       'Soil_Type27', 'Soil_Type28', 'Soil_Type29', 'Soil_Type30',\n",
       "       'Soil_Type31', 'Soil_Type32', 'Soil_Type33', 'Soil_Type34',\n",
       "       'Soil_Type35', 'Soil_Type36', 'Soil_Type37', 'Soil_Type38',\n",
       "       'Soil_Type39', 'Soil_Type40', 'Cover_Type', 'ExS',\n",
       "       'Relative_hoz_dist_min', 'Relative_hoz_dist_max',\n",
       "       'Relative_hoz_dist_mean', 'total_hillshade', 'min_hillshade',\n",
       "       'max_hillshade', 'Relative_height_from_water'],\n",
       "      dtype='object')"
      ]
     },
     "execution_count": 27,
     "metadata": {},
     "output_type": "execute_result"
    }
   ],
   "source": [
    "# df_eng.columns"
   ]
  },
  {
   "cell_type": "code",
   "execution_count": null,
   "id": "4ce2c4f4",
   "metadata": {},
   "outputs": [],
   "source": []
  },
  {
   "cell_type": "code",
   "execution_count": null,
   "id": "a97978d1",
   "metadata": {},
   "outputs": [],
   "source": [
    "df_eng = df_eng.drop(columns={\"Elevation\",  \"Vertical_Distance_To_Hydrology\",\"Horizontal_Distance_To_Hydrology\", \"Horizontal_Distance_To_Fire_Points\",\"Horizontal_Distance_To_Roadways\",\"Hillshade_9am\",\"Hillshade_Noon\", \"Hillshade_3pm\"  })"
   ]
  },
  {
   "cell_type": "code",
   "execution_count": null,
   "id": "f0ef569a",
   "metadata": {},
   "outputs": [],
   "source": [
    "X_eng = df_eng.drop(columns={\"Cover_Type\"})\n",
    "y_eng = df_eng[\"Cover_Type\"]\n",
    "eng_Xtr, eng_Xte, eng_y_tr, eng_y_te = train_test_split(X_eng, y_eng, test_size=0.3, random_state=42)"
   ]
  },
  {
   "cell_type": "code",
   "execution_count": null,
   "id": "60e7d4ba",
   "metadata": {},
   "outputs": [],
   "source": [
    "smote = SMOTETomek(random_state=42)\n",
    "\n",
    "X_eng_tr_s, y_eng_tr_s =smote.fit_resample(eng_Xtr, eng_y_tr)"
   ]
  },
  {
   "cell_type": "code",
   "execution_count": null,
   "id": "86417622",
   "metadata": {},
   "outputs": [
    {
     "data": {
      "text/plain": [
       "Index(['Aspect', 'Slope', 'Wilderness_Area1', 'Wilderness_Area2',\n",
       "       'Wilderness_Area3', 'Wilderness_Area4', 'Soil_Type1', 'Soil_Type2',\n",
       "       'Soil_Type3', 'Soil_Type4', 'Soil_Type5', 'Soil_Type6', 'Soil_Type7',\n",
       "       'Soil_Type8', 'Soil_Type9', 'Soil_Type10', 'Soil_Type11', 'Soil_Type12',\n",
       "       'Soil_Type13', 'Soil_Type14', 'Soil_Type15', 'Soil_Type16',\n",
       "       'Soil_Type17', 'Soil_Type18', 'Soil_Type19', 'Soil_Type20',\n",
       "       'Soil_Type21', 'Soil_Type22', 'Soil_Type23', 'Soil_Type24',\n",
       "       'Soil_Type25', 'Soil_Type26', 'Soil_Type27', 'Soil_Type28',\n",
       "       'Soil_Type29', 'Soil_Type30', 'Soil_Type31', 'Soil_Type32',\n",
       "       'Soil_Type33', 'Soil_Type34', 'Soil_Type35', 'Soil_Type36',\n",
       "       'Soil_Type37', 'Soil_Type38', 'Soil_Type39', 'Soil_Type40',\n",
       "       'Cover_Type', 'Relative_hoz_dist_mean', 'total_hillshade',\n",
       "       'Relative_height_from_water'],\n",
       "      dtype='object')"
      ]
     },
     "execution_count": 37,
     "metadata": {},
     "output_type": "execute_result"
    }
   ],
   "source": [
    "CT_eng = DecisionTreeClassifier( criterion= 'entropy',  random_state=42 )\n",
    "CT_eng.fit(X_eng_tr_s, y_eng_tr_s)\n",
    "\n",
    "ct_b_tr_acc = CT_smote.score(X_eng_tr_s, y_eng_tr_s)\n",
    "ct_b_te_acc = CT_smote.score(X_test, y_test)\n",
    "\n",
    "print(f\"Smote train acc: {ct_b_tr_acc}\")\n",
    "print(f\"Smote test acc: {ct_b_te_acc}\")"
   ]
  },
  {
   "cell_type": "code",
   "execution_count": null,
   "id": "d12a9c87",
   "metadata": {},
   "outputs": [],
   "source": [
    "\n",
    "\n",
    "continuous_features = [\n",
    "\n",
    "    'Slope',\n",
    "    'Cover_Type', \n",
    "    'Relative_hoz_dist_mean', \n",
    "    'total_hillshade',\n",
    "    'Relative_height_from_water'\n",
    "\n",
    "]\n",
    "\n",
    "knn_eng_df = df_eng.copy()\n",
    "\n",
    "\n",
    "\n",
    "\n",
    "# --- Robust scaling for distance-based kNN (handles outliers better than z-score)\n",
    "scaler = MinMaxScaler()\n",
    "knn_eng_df[continuous_features] = scaler.fit_transform(knn_df[continuous_features])\n",
    "\n",
    "# --- Cyclical encoding for Aspect (DO NOT scale these)\n",
    "knn_eng_df[\"Aspect_rad\"] = np.deg2rad(knn_eng_df[\"Aspect\"])\n",
    "knn_eng_df[\"Aspect_sin\"] = np.sin(knn_eng_df[\"Aspect_rad\"])\n",
    "knn_eng_df[\"Aspect_cos\"] = np.cos(knn_eng_df[\"Aspect_rad\"])\n",
    "knn_eng_df = knn_eng_df.drop(columns=[\"Aspect\", \"Aspect_rad\"])\n",
    "\n",
    "# Final list for plotting\n",
    "plot_features = continuous_features + [\"Aspect_sin\", \"Aspect_cos\"]\n",
    "\n",
    "# # --- Plot\n",
    "# n = len(plot_features)\n",
    "# fig, axes = plt.subplots(n, 1, figsize=(6, 2.2*n), constrained_layout=True)\n",
    "\n",
    "# for i, col in enumerate(plot_features):\n",
    "#     sns.histplot(knn_df[col], bins=50, kde=True, ax=axes[i])\n",
    "#     axes[i].set_title(f\"Distribution of {col}\")\n",
    "#     axes[i].set_xlabel(\"\")\n",
    "#     axes[i].set_ylabel(\"Count\")\n",
    "\n",
    "# plt.show()"
   ]
  },
  {
   "cell_type": "code",
   "execution_count": null,
   "id": "59b23e40",
   "metadata": {},
   "outputs": [],
   "source": [
    "knn_eng_df = knn_eng_df.drop(columns={\"Cover_Type\"})\n",
    "knn_y_eng = knn_eng_df[\"Cover_Type\"]\n",
    "eng_Xtr, eng_Xte, eng_y_tr, eng_y_te = train_test_split(X_eng, y_eng, test_size=0.3, random_state=42)"
   ]
  },
  {
   "cell_type": "code",
   "execution_count": null,
   "id": "f829fcee",
   "metadata": {},
   "outputs": [],
   "source": [
    "knn_smote = SMOTETomek(random_state=42)\n",
    "\n",
    "X_eng_tr_s, y_eng_tr_s =knn_smote.fit_resample(eng_Xtr, eng_y_tr)"
   ]
  },
  {
   "cell_type": "code",
   "execution_count": null,
   "id": "4ad5bf31",
   "metadata": {},
   "outputs": [],
   "source": [
    "eng_knn = KNeighborsClassifier(n_neighbors=5, metric=\"euclidean\", weights='distance')\n",
    "eng_knn.fit(X_eng_tr_s, y_eng_tr_s)\n",
    "\n",
    "train_acc = knn_bal.score(X_eng_tr_s, y_eng_tr_s)\n",
    "test_acc = knn_bal.score(X_test, y_test)\n",
    "\n",
    "print(f\"Train Accuracy: {train_acc:.4f}\")\n",
    "print(f\"Test Accuracy: {test_acc:.4f}\")"
   ]
  },
  {
   "cell_type": "code",
   "execution_count": null,
   "id": "859f536b",
   "metadata": {},
   "outputs": [],
   "source": []
  }
 ],
 "metadata": {
  "kernelspec": {
   "display_name": "datsci",
   "language": "python",
   "name": "python3"
  },
  "language_info": {
   "codemirror_mode": {
    "name": "ipython",
    "version": 3
   },
   "file_extension": ".py",
   "mimetype": "text/x-python",
   "name": "python",
   "nbconvert_exporter": "python",
   "pygments_lexer": "ipython3",
   "version": "3.11.13"
  }
 },
 "nbformat": 4,
 "nbformat_minor": 5
}
