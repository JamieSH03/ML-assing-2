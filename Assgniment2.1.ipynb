{
 "cells": [
  {
   "cell_type": "code",
   "execution_count": 1,
   "id": "79a3f8e7",
   "metadata": {},
   "outputs": [],
   "source": [
    "import pandas as pd\n",
    "import numpy as np\n",
    "import os\n",
    "import math\n",
    "import matplotlib.pyplot as plt\n",
    "from sklearn.model_selection import train_test_split\n",
    "from sklearn.neighbors import KNeighborsClassifier\n",
    "from sklearn.tree import DecisionTreeClassifier\n",
    "from sklearn.metrics import classification_report, confusion_matrix\n",
    "import matplotlib.pyplot as plt\n",
    "import seaborn as sns\n",
    "from sklearn.preprocessing import MinMaxScaler, RobustScaler, StandardScaler\n",
    "from sklearn.decomposition import PCA\n",
    "from imblearn.combine import SMOTETomek\n",
    "from imblearn.under_sampling import TomekLinks\n",
    "from sklearn.model_selection import GridSearchCV\n",
    "\n"
   ]
  },
  {
   "cell_type": "markdown",
   "id": "545dcec1",
   "metadata": {},
   "source": [
    "## Presprocessing"
   ]
  },
  {
   "cell_type": "code",
   "execution_count": 3,
   "id": "17898544",
   "metadata": {},
   "outputs": [],
   "source": [
    "raw_df = pd.read_csv(\"../forestCover.csv\", na_values=\"?\")\n",
    "raw_df = raw_df.rename(columns={\"Observation_ID\":\"Water_Level\" , \"Water_Level\":\"Observation_ID\"})\n",
    "# display(raw_df)"
   ]
  },
  {
   "cell_type": "code",
   "execution_count": 4,
   "id": "18a26d20",
   "metadata": {},
   "outputs": [
    {
     "data": {
      "text/plain": [
       "np.int64(298)"
      ]
     },
     "execution_count": 4,
     "metadata": {},
     "output_type": "execute_result"
    }
   ],
   "source": [
    "na_col = raw_df.columns[raw_df.isna().any()]\n",
    "# print(na_col)\n",
    "raw_df[\"Slope\"].isna().sum()"
   ]
  },
  {
   "cell_type": "code",
   "execution_count": 6,
   "id": "804e5432",
   "metadata": {},
   "outputs": [
    {
     "name": "stdout",
     "output_type": "stream",
     "text": [
      "Corr of Inclination and Cover: 0.0002417782055169697\n",
      "Corr of aspect and facet: 0.9999980536139016\n",
      "Cardinality of water level: 1\n",
      "Cardinality of obs id: 581012\n"
     ]
    }
   ],
   "source": [
    "print(f\"Corr of Inclination and Cover: {raw_df['Inclination'].corr(raw_df['Cover_Type'])}\")\n",
    "print(f\"Corr of aspect and facet: {raw_df['Facet'].corr(raw_df['Aspect'])}\")\n",
    "print(f\"Cardinality of water level: {raw_df['Water_Level'].nunique()}\")\n",
    "print(f\"Cardinality of obs id: {raw_df['Observation_ID'].nunique()}\")\n",
    "df = raw_df.drop(columns={'Facet','Water_Level','Observation_ID', 'Inclination' })\n",
    "\n"
   ]
  },
  {
   "cell_type": "code",
   "execution_count": null,
   "id": "a50d1401",
   "metadata": {},
   "outputs": [
    {
     "name": "stdout",
     "output_type": "stream",
     "text": [
      "Cover_Type\n",
      "1    0.045\n",
      "2    0.055\n",
      "3    0.053\n",
      "4    0.036\n",
      "5    0.021\n",
      "6    0.069\n",
      "7    0.054\n",
      "Name: count, dtype: float64\n"
     ]
    }
   ],
   "source": [
    "na_rows = df.index[df.isna().any(axis=1)]\n",
    "na_proportions = (df[\"Cover_Type\"][na_rows].value_counts() /  df[\"Cover_Type\"].value_counts() * 100).round(3)\n",
    "print(na_proportions)\n",
    "df = df.dropna()\n",
    "\n"
   ]
  },
  {
   "cell_type": "code",
   "execution_count": 8,
   "id": "5345ae2d",
   "metadata": {},
   "outputs": [
    {
     "data": {
      "text/plain": [
       "Soil_Type1\n",
       "1    577981\n",
       "0      3031\n",
       "Name: count, dtype: int64"
      ]
     },
     "execution_count": 8,
     "metadata": {},
     "output_type": "execute_result"
    }
   ],
   "source": [
    "df[\"Soil_Type1\"] = (df[\"Soil_Type1\"] == 'positive').astype(int)\n",
    "df[\"Soil_Type1\"].value_counts()"
   ]
  },
  {
   "cell_type": "code",
   "execution_count": 9,
   "id": "f4283de5",
   "metadata": {},
   "outputs": [],
   "source": [
    "continuous_features = [\n",
    "    \"Elevation\",\n",
    "    \"Aspect\",\n",
    "    \"Slope\",\n",
    "    \"Horizontal_Distance_To_Hydrology\",\n",
    "    \"Vertical_Distance_To_Hydrology\",\n",
    "    \"Horizontal_Distance_To_Roadways\",\n",
    "    \"Hillshade_9am\",\n",
    "    \"Hillshade_Noon\",\n",
    "    \"Hillshade_3pm\",\n",
    "    \"Horizontal_Distance_To_Fire_Points\"\n",
    "]\n",
    "\n",
    "# # Plot distributions\n",
    "# fig, axes = plt.subplots(len(continuous_features), 1, figsize=(5, 15))\n",
    "\n",
    "# for i, col in enumerate(continuous_features):\n",
    "#     sns.histplot(df[col], bins=50, kde=True, ax=axes[i], color=\"steelblue\")\n",
    "#     axes[i].set_title(f\"Distribution of {col}\")\n",
    "#     axes[i].set_xlabel(\"\")\n",
    "#     axes[i].set_ylabel(\"Count\")\n",
    "\n",
    "# plt.tight_layout()\n",
    "# plt.show()"
   ]
  },
  {
   "cell_type": "markdown",
   "id": "082a713d",
   "metadata": {},
   "source": [
    "## Data Augmentation"
   ]
  },
  {
   "cell_type": "code",
   "execution_count": null,
   "id": "19c55147",
   "metadata": {},
   "outputs": [],
   "source": [
    "df_eng = df.copy()\n",
    "df_eng[\"Relative_hoz_dist_mean\"] = df[[\n",
    "    \"Horizontal_Distance_To_Hydrology\",\n",
    "    \"Horizontal_Distance_To_Fire_Points\",\n",
    "    \"Horizontal_Distance_To_Roadways\"\n",
    "]].mean(axis=1)\n",
    "\n",
    "df_eng[\"total_hillshade\"] = df[[\"Hillshade_9am\",\"Hillshade_Noon\",\"Hillshade_3pm\"]].sum(axis=1)\n",
    "# df_eng[\"min_hillshade\"]   = df[[\"Hillshade_9am\",\"Hillshade_Noon\",\"Hillshade_3pm\"]].min(axis=1)\n",
    "# df_eng[\"max_hillshade\"]   = df[[\"Hillshade_9am\",\"Hillshade_Noon\",\"Hillshade_3pm\"]].max(axis=1)\n",
    "\n",
    "df_eng[\"Relative_height_from_water\"] = df[\"Elevation\"] - df[\"Vertical_Distance_To_Hydrology\"]\n",
    "df_eng = df_eng.drop(columns={\"Elevation\",  \"Vertical_Distance_To_Hydrology\",\"Horizontal_Distance_To_Hydrology\", \"Horizontal_Distance_To_Fire_Points\",\"Horizontal_Distance_To_Roadways\",\"Hillshade_9am\",\"Hillshade_Noon\", \"Hillshade_3pm\"  })"
   ]
  },
  {
   "cell_type": "markdown",
   "id": "5a5c2dcc",
   "metadata": {},
   "source": [
    "## Train test"
   ]
  },
  {
   "cell_type": "code",
   "execution_count": null,
   "id": "7f89a5d2",
   "metadata": {},
   "outputs": [],
   "source": [
    "X = df.drop(columns={\"Cover_Type\"})\n",
    "X_eng = df_eng.drop(columns={\"Cover_Type\"})\n",
    "y = df[\"Cover_Type\"]\n",
    "y_eng = df_eng[\"Cover_Type\"]\n",
    "\n",
    "X_train, X_test, y_train, y_test = train_test_split(X, y, test_size=0.3, random_state=42)\n",
    "\n",
    "eX_train, eX_test, ey_train, ey_test = train_test_split(X_eng, y_eng, test_size=0.3, random_state=42)\n",
    "\n"
   ]
  },
  {
   "cell_type": "markdown",
   "id": "ee24cd8b",
   "metadata": {},
   "source": [
    "## PCA"
   ]
  },
  {
   "cell_type": "code",
   "execution_count": null,
   "id": "81a48030",
   "metadata": {},
   "outputs": [],
   "source": [
    "pca = PCA(n_components=0.9)\n",
    "X_pca = pca.fit_transform(X)\n"
   ]
  },
  {
   "cell_type": "markdown",
   "id": "929601cd",
   "metadata": {},
   "source": [
    "## Tomek"
   ]
  },
  {
   "cell_type": "code",
   "execution_count": null,
   "id": "57610891",
   "metadata": {},
   "outputs": [],
   "source": [
    "tomek = TomekLinks(sampling_strategy='auto')\n",
    "X_train_t, y_train_t = tomek.fit_resample(X_train, y_train)\n",
    "eX_train_t, ey_train_t = tomek.fit_resample(eX_train, ey_train)\n"
   ]
  },
  {
   "cell_type": "code",
   "execution_count": null,
   "id": "e5d6cf15",
   "metadata": {},
   "outputs": [],
   "source": [
    "smote = SMOTETomek(random_state=42)\n",
    "X_train_s, y_train_s = tomek.fit_resample(X_train, y_train)\n",
    "eX_train_s, ey_train_s = tomek.fit_resample(eX_train, ey_train)"
   ]
  },
  {
   "cell_type": "markdown",
   "id": "2ce44be0",
   "metadata": {},
   "source": [
    "### KNN dataset"
   ]
  },
  {
   "cell_type": "code",
   "execution_count": null,
   "id": "22e0f350",
   "metadata": {},
   "outputs": [],
   "source": [
    "outlier_features = [\n",
    "    \"Horizontal_Distance_To_Hydrology\",\n",
    "    \"Hillshade_Noon\",\n",
    "    \"Vertical_Distance_To_Hydrology\",\n",
    "]\n",
    "\n",
    "def clamp_series(s, lower_q=0.01, upper_q=0.99):\n",
    "    lower, upper = s.quantile([lower_q, upper_q])\n",
    "    return s.clip(lower, upper)\n",
    "\n",
    "# apply clamping\n",
    "for col in outlier_features:\n",
    "    eX_train_s[col] = clamp_series(eX_train_s[col], 0.01, 0.99)\n",
    "    eX_train_t[col] = clamp_series(eX_train_t[col], 0.01, 0.99)\n",
    "    \n",
    "\n",
    "\n",
    "continuous_features = [\n",
    "    \"Elevation\",\n",
    "    \"Slope\",\n",
    "    \"Horizontal_Distance_To_Hydrology\",\n",
    "    \"Vertical_Distance_To_Hydrology\",\n",
    "    \"Horizontal_Distance_To_Roadways\",\n",
    "    \"Hillshade_9am\",\n",
    "    \"Hillshade_Noon\",\n",
    "    \"Hillshade_3pm\",\n",
    "    \"Horizontal_Distance_To_Fire_Points\",\n",
    "]\n",
    "\n",
    "continuous_features_eng = [\n",
    "    'Slope',\n",
    "    'Cover_Type', \n",
    "    'Relative_hoz_dist_mean', \n",
    "    'total_hillshade',\n",
    "    'Relative_height_from_water'\n",
    "]\n",
    "\n",
    "knn_X_t = X_train_t.copy()\n",
    "knn_X_s = X_train_s.copy()\n",
    "knn_eX_t = eX_train_t.copy()\n",
    "knn_eX_s = eX_train_s.copy()\n",
    "\n",
    "\n",
    "def scale_knn(knn_df, continuous_features = continuous_features):\n",
    "    scaler = MinMaxScaler()\n",
    "    knn_df[continuous_features] = scaler.fit_transform(knn_df[continuous_features])\n",
    "    knn_df[\"Aspect_rad\"] = np.deg2rad(knn_df[\"Aspect\"])\n",
    "    knn_df[\"Aspect_sin\"] = np.sin(knn_df[\"Aspect_rad\"])\n",
    "    knn_df[\"Aspect_cos\"] = np.cos(knn_df[\"Aspect_rad\"])\n",
    "    knn_df = knn_df.drop(columns=[\"Aspect\", \"Aspect_rad\"])\n",
    "\n",
    "\n",
    "scale_knn(knn_X_t)\n",
    "scale_knn(knn_eX_s, continuous_features_eng)\n",
    "scale_knn(knn_eX_t, continuous_features_eng)\n",
    "scale_knn(knn_X_s)\n",
    "\n",
    "\n",
    "    \n"
   ]
  },
  {
   "cell_type": "markdown",
   "id": "b0083c1d",
   "metadata": {},
   "source": [
    "# Models"
   ]
  },
  {
   "cell_type": "markdown",
   "id": "d564797e",
   "metadata": {},
   "source": [
    "## KNN"
   ]
  },
  {
   "cell_type": "code",
   "execution_count": null,
   "id": "c6eee969",
   "metadata": {},
   "outputs": [],
   "source": [
    "def test_knn(X_train, y_train, X_test = X_test, y_test = y_test, weights = 'distance' , k = 5, metric = \"euclidean\"):\n",
    "    knn = KNeighborsClassifier(n_neighbors=k, metric=metric, weights=weights)\n",
    "    knn.fit(X_train, y_train)\n",
    "    train_acc = knn.score(X_train, X_train)\n",
    "    test_acc = knn.score(X_test, y_test)\n",
    "\n",
    "    print(f\"Train Accuracy: {train_acc:.4f}\")\n",
    "    print(f\"Test Accuracy: {test_acc:.4f}\")\n",
    "    \n",
    "    "
   ]
  },
  {
   "cell_type": "code",
   "execution_count": null,
   "id": "c4292fce",
   "metadata": {},
   "outputs": [],
   "source": [
    "test_knn(X_train, y_train)"
   ]
  },
  {
   "cell_type": "code",
   "execution_count": null,
   "id": "424ef5f9",
   "metadata": {},
   "outputs": [],
   "source": [
    "test_knn(knn_eX_s, ey_train)\n",
    "test_knn(knn_eX_t, ey_train)"
   ]
  },
  {
   "cell_type": "code",
   "execution_count": null,
   "id": "939a24e3",
   "metadata": {},
   "outputs": [],
   "source": [
    "test_knn(knn_eX_s, ey_train, weights='uniform')\n",
    "test_knn(knn_eX_t, ey_train, weights='uniform')"
   ]
  },
  {
   "cell_type": "code",
   "execution_count": null,
   "id": "233ef2e9",
   "metadata": {},
   "outputs": [],
   "source": [
    "test_knn(knn_X_s, y_train_s)\n",
    "test_knn(knn_X_t, y_train_t)"
   ]
  },
  {
   "cell_type": "code",
   "execution_count": null,
   "id": "7f564a06",
   "metadata": {},
   "outputs": [],
   "source": [
    "test_knn(knn_X_s, y_train_s, k=10)\n",
    "test_knn(knn_X_t, y_train_t, k = 15)"
   ]
  }
 ],
 "metadata": {
  "kernelspec": {
   "display_name": "datsci",
   "language": "python",
   "name": "python3"
  },
  "language_info": {
   "codemirror_mode": {
    "name": "ipython",
    "version": 3
   },
   "file_extension": ".py",
   "mimetype": "text/x-python",
   "name": "python",
   "nbconvert_exporter": "python",
   "pygments_lexer": "ipython3",
   "version": "3.11.13"
  }
 },
 "nbformat": 4,
 "nbformat_minor": 5
}
